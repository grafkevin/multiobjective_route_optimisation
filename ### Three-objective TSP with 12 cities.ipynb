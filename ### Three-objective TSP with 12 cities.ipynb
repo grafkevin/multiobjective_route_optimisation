{
 "cells": [
  {
   "cell_type": "markdown",
   "metadata": {
    "toc": true
   },
   "source": [
    "<h1>Table of Contents<span class=\"tocSkip\"></span></h1>\n",
    "<div class=\"toc\"><ul class=\"toc-item\"><li><span><a href=\"#1.-Import-of-all-required-packages\" data-toc-modified-id=\"1.-Import-of-all-required-packages-1\"><span class=\"toc-item-num\">1&nbsp;&nbsp;</span>1. Import of all required packages</a></span></li><li><span><a href=\"#2.-Define-the-Evaluation-Function-and-the-Local-Search-Function\" data-toc-modified-id=\"2.-Define-the-Evaluation-Function-and-the-Local-Search-Function-2\"><span class=\"toc-item-num\">2&nbsp;&nbsp;</span>2. Define the Evaluation Function and the Local Search Function</a></span></li><li><span><a href=\"#3.-Run-the-MOEAs-to-plot-the-Pareto-fronts-and-routes\" data-toc-modified-id=\"3.-Run-the-MOEAs-to-plot-the-Pareto-fronts-and-routes-3\"><span class=\"toc-item-num\">3&nbsp;&nbsp;</span>3. Run the MOEAs to plot the Pareto fronts and routes</a></span><ul class=\"toc-item\"><li><span><a href=\"#3.1-Load-the-already-calculated-result-dataset-to-skip-the-long-runtime\" data-toc-modified-id=\"3.1-Load-the-already-calculated-result-dataset-to-skip-the-long-runtime-3.1\"><span class=\"toc-item-num\">3.1&nbsp;&nbsp;</span>3.1 Load the already calculated result dataset to skip the long runtime</a></span></li><li><span><a href=\"#3.2-Run-the-algorithm-(skip)\" data-toc-modified-id=\"3.2-Run-the-algorithm-(skip)-3.2\"><span class=\"toc-item-num\">3.2&nbsp;&nbsp;</span>3.2 Run the algorithm (skip)</a></span></li><li><span><a href=\"#3.3-Create-DataFrames-to-plot-the-routes-(skip)\" data-toc-modified-id=\"3.3-Create-DataFrames-to-plot-the-routes-(skip)-3.3\"><span class=\"toc-item-num\">3.3&nbsp;&nbsp;</span>3.3 Create DataFrames to plot the routes (skip)</a></span></li><li><span><a href=\"#3.4-Plot-the-Pareto-fronts\" data-toc-modified-id=\"3.4-Plot-the-Pareto-fronts-3.4\"><span class=\"toc-item-num\">3.4&nbsp;&nbsp;</span>3.4 Plot the Pareto fronts</a></span></li><li><span><a href=\"#3.5-Plot-the-routes-on-a-world-map\" data-toc-modified-id=\"3.5-Plot-the-routes-on-a-world-map-3.5\"><span class=\"toc-item-num\">3.5&nbsp;&nbsp;</span>3.5 Plot the routes on a world map</a></span></li><li><span><a href=\"#3.6-Explorative-Data-analysis\" data-toc-modified-id=\"3.6-Explorative-Data-analysis-3.6\"><span class=\"toc-item-num\">3.6&nbsp;&nbsp;</span>3.6 Explorative Data analysis</a></span></li></ul></li><li><span><a href=\"#4.-Experimenter\" data-toc-modified-id=\"4.-Experimenter-4\"><span class=\"toc-item-num\">4&nbsp;&nbsp;</span>4. Experimenter</a></span><ul class=\"toc-item\"><li><span><a href=\"#4.1-Run-the-experimenter-(skip)\" data-toc-modified-id=\"4.1-Run-the-experimenter-(skip)-4.1\"><span class=\"toc-item-num\">4.1&nbsp;&nbsp;</span>4.1 Run the experimenter (skip)</a></span></li><li><span><a href=\"#4.2-Wilcoxon-Signed-Rank-Test\" data-toc-modified-id=\"4.2-Wilcoxon-Signed-Rank-Test-4.2\"><span class=\"toc-item-num\">4.2&nbsp;&nbsp;</span>4.2 Wilcoxon Signed-Rank Test</a></span></li><li><span><a href=\"#4.3-Sample-Size\" data-toc-modified-id=\"4.3-Sample-Size-4.3\"><span class=\"toc-item-num\">4.3&nbsp;&nbsp;</span>4.3 Sample Size</a></span></li></ul></li></ul></div>"
   ]
  },
  {
   "cell_type": "markdown",
   "metadata": {},
   "source": [
    "Three-objective TSP with multiple traveling modalities\n",
    "\n",
    "Author: Kevin Gräf <br>\n",
    "Date: 10 August 2020"
   ]
  },
  {
   "cell_type": "markdown",
   "metadata": {},
   "source": [
    "# 1. Import of all required packages"
   ]
  },
  {
   "cell_type": "code",
   "execution_count": null,
   "metadata": {},
   "outputs": [],
   "source": [
    "# For better navigation in the jupyter notebook\n",
    "pip install jupyter_contrib_nbextensions jupyter_nbextensions_configurator\n",
    "# Go back to the Jupyter main tab in your browser\n",
    "# Go to the 'Nbextensions' tab and activate 'Table of Contents'"
   ]
  },
  {
   "cell_type": "code",
   "execution_count": 1,
   "metadata": {},
   "outputs": [],
   "source": [
    "# pip install platypus-opt\n",
    "from platypus import *         # the MOEA framework\n",
    "\n",
    "# pip install pandas\n",
    "import pandas as pd            # for DataFrames\n",
    "\n",
    "# pip install xlrd\n",
    "import xlrd                    # for import/export from Excel\n",
    "\n",
    "# pip install matplotlib.pyplot\n",
    "import matplotlib.pyplot as plt\n",
    "\n",
    "# pip install numpy\n",
    "import numpy as np\n",
    "\n",
    "# pip install scipy\n",
    "import scipy.stats as stats    # for statistical testing\n",
    "from scipy.spatial.distance import pdist, squareform\n",
    "\n",
    "# pip install plotly\n",
    "import plotly.graph_objects as go # for plotting routes\n",
    "\n",
    "# pip install geopy\n",
    "from geopy.geocoders import Nominatim # for retrieving longitude and latitude data of cities\n",
    "\n",
    "# Python standard libraries, should be already installed\n",
    "import pickle                  # To store and retrieve result variables\n",
    "import random\n",
    "import math\n",
    "\n",
    "# Required if run in Google Colab\n",
    "#from google.colab import files, output\n",
    "#import io"
   ]
  },
  {
   "cell_type": "code",
   "execution_count": 2,
   "metadata": {},
   "outputs": [
    {
     "name": "stdout",
     "output_type": "stream",
     "text": [
      "['Amsterdam', 'Berlin', 'Brussels', 'Copenhagen', 'Lisbon', 'London', 'Madrid', 'Paris', 'Prague', 'Rome', 'Vienna', 'Warsaw']\n",
      "[1, 2, 3, 4, 5, 6, 7, 8, 9, 10, 11]\n"
     ]
    }
   ],
   "source": [
    "# Importing the distance matrices from Excel and convert them into numpy arrays\n",
    "data = pd.read_excel(\"MOTSP_12_real.xlsx\",sheet_name=[0,1,2,3,4,5])\n",
    "\n",
    "time_bus = data[0]\n",
    "time_bus = time_bus.set_index(\"time_bus\")\n",
    "time_bus2 = time_bus\n",
    "time_bus = time_bus.to_numpy()\n",
    "\n",
    "time_flight = data[1]\n",
    "time_flight = time_flight.set_index(\"time_flight\")\n",
    "time_flight = time_flight.to_numpy()\n",
    "\n",
    "carbon_bus = data[2]\n",
    "carbon_bus = carbon_bus.set_index(\"emission_bus\")\n",
    "carbon_bus = carbon_bus.to_numpy()\n",
    "\n",
    "carbon_flight = data[3]\n",
    "carbon_flight = carbon_flight.set_index(\"emission_flight\")\n",
    "carbon_flight = carbon_flight.to_numpy()\n",
    "\n",
    "cost_bus = data[4]\n",
    "cost_bus = cost_bus.set_index(\"cost_bus\")\n",
    "city_names = list(cost_bus[0:0]) # Store a list of city names to reference later from the route\n",
    "print(city_names)\n",
    "cost_bus = cost_bus.to_numpy()\n",
    "\n",
    "cost_flight = data[5]\n",
    "cost_flight = cost_flight.set_index(\"cost_flight\")\n",
    "cost_flight = cost_flight.to_numpy()\n",
    "\n",
    "city_list = list(np.arange(1,len(cost_bus)))\n",
    "print(city_list)"
   ]
  },
  {
   "cell_type": "markdown",
   "metadata": {},
   "source": [
    "# 2. Define the Evaluation Function and the Local Search Function "
   ]
  },
  {
   "cell_type": "code",
   "execution_count": 3,
   "metadata": {},
   "outputs": [],
   "source": [
    "# Function to measure the fitness of the routes\n",
    "def fitness(route,borf):\n",
    "    em = 0\n",
    "    time = 0\n",
    "    cost = 0\n",
    "    for i in range(len(route)-1):\n",
    "        if borf[i] == 1: # If from i to j by bus\n",
    "            em += carbon_bus[route[i]][route[(i+1)%len(route)]] \n",
    "            time += time_bus[route[i]][route[(i+1)%len(route)]]\n",
    "            cost += cost_bus[route[i]][route[(i+1)%len(route)]]\n",
    "        if borf[i] == 0: # If by plane\n",
    "            em += carbon_flight[route[i]][route[(i+1)%len(route)]]\n",
    "            time += time_flight[route[i]][route[(i+1)%len(route)]]\n",
    "            cost += cost_flight[route[i]][route[(i+1)%len(route)]]\n",
    "    return cost, time, em\n",
    "\n",
    "# Local search function to optimize the routes passed by the Platypus framework\n",
    "def two_opt(vars):\n",
    "    route = [0] + vars[0] + [0] # Always start and end at node 0 (hometown)\n",
    "    borf = vars[1]\n",
    "    fit = fitness(route,borf)\n",
    "    for i in range(1,len(route)-3):\n",
    "        for j in range(i+2,len(route)-1):\n",
    "            if borf[i] == 1 and borf[j] == 1: # If bus is taken on vertex1 and vertex2\n",
    "                fit1 = sum([carbon_bus[route[i]][route[i+1]], carbon_bus[route[j]][route[j+1]],\n",
    "                              time_bus[route[i]][route[i+1]],   time_bus[route[j]][route[j+1]],\n",
    "                              cost_bus[route[i]][route[i+1]],   cost_bus[route[j]][route[j+1]]])     \n",
    "            if borf[i] == 1 and borf[j] == 0: # If bus is taken on vertex1 and flight on vertex2\n",
    "                fit1 = sum([carbon_bus[route[i]][route[i+1]], carbon_flight[route[j]][route[j+1]],\n",
    "                              time_bus[route[i]][route[i+1]],   time_flight[route[j]][route[j+1]],\n",
    "                              cost_bus[route[i]][route[i+1]],   cost_flight[route[j]][route[j+1]]])\n",
    "            if borf[i] == 0 and borf[j] == 1: # If flight is taken on vertex1 and bus on vertex2\n",
    "                fit1 = sum([carbon_flight[route[i]][route[i+1]], carbon_bus[route[j]][route[j+1]],\n",
    "                              time_flight[route[i]][route[i+1]],   time_bus[route[j]][route[j+1]],\n",
    "                              cost_flight[route[i]][route[i+1]],   cost_bus[route[j]][route[j+1]]])\n",
    "            if borf[i] == 0 and borf[j] == 0: # If flight is taken on vertex1 and vertex2\n",
    "                fit1 = sum([carbon_flight[route[i]][route[i+1]],carbon_flight[route[j]][route[j+1]],\n",
    "                              time_flight[route[i]][route[i+1]],  time_flight[route[j]][route[j+1]],\n",
    "                              cost_flight[route[i]][route[i+1]],  cost_flight[route[j]][route[j+1]]])\n",
    "            # bus only substitution\n",
    "            fit2 = sum([carbon_bus[route[i]][route[j]], carbon_bus[route[i+1]][route[j+1]],\n",
    "                          time_bus[route[i]][route[j]],   time_bus[route[i+1]][route[j+1]],\n",
    "                          cost_bus[route[i]][route[j]],   cost_bus[route[i+1]][route[j+1]]])\n",
    "            # first bus then flight\n",
    "            fit3 = sum([carbon_bus[route[i]][route[j]], carbon_flight[route[i+1]][route[j+1]],\n",
    "                          time_bus[route[i]][route[j]],   time_flight[route[i+1]][route[j+1]],\n",
    "                          cost_bus[route[i]][route[j]],   cost_flight[route[i+1]][route[j+1]]])\n",
    "            #first flight then bus\n",
    "            fit4 = sum([carbon_flight[route[i]][route[j]], carbon_bus[route[i+1]][route[j+1]],\n",
    "                          time_flight[route[i]][route[j]],   time_bus[route[i+1]][route[j+1]],\n",
    "                          cost_flight[route[i]][route[j]],   cost_bus[route[i+1]][route[j+1]]])\n",
    "            # flight only substitution\n",
    "            fit5 = sum([carbon_flight[route[i]][route[j]], carbon_flight[route[i+1]][route[j+1]],\n",
    "                          time_flight[route[i]][route[j]],   time_flight[route[i+1]][route[j+1]],\n",
    "                          cost_flight[route[i]][route[j]],   cost_flight[route[i+1]][route[j+1]]]) \n",
    "            # compare old fitness (fit1) with new fitness (fit2345)\n",
    "            minfit = min(fit2,fit3,fit4,fit5)\n",
    "            if minfit < fit1 and minfit == fit2:\n",
    "                route = route[:i+1] + route[j:i:-1] + route[j+1:]\n",
    "                borf[i] = 1\n",
    "                borf[j] = 1\n",
    "               \n",
    "            if minfit < fit1 and minfit == fit3:\n",
    "                route = route[:i+1] + route[j:i:-1] + route[j+1:]\n",
    "                borf[i] = 1\n",
    "                borf[j] = 0\n",
    "           \n",
    "            if minfit < fit1 and minfit == fit4:\n",
    "                route = route[:i+1] + route[j:i:-1] + route[j+1:]\n",
    "                borf[i] = 0\n",
    "                borf[j] = 1\n",
    "            \n",
    "            if minfit < fit1 and minfit == fit5:\n",
    "                route = route[:i+1] + route[j:i:-1] + route[j+1:]\n",
    "                borf[i] = 0\n",
    "                borf[j] = 0\n",
    "\n",
    "            # first improvement strategy (faster)\n",
    "            fit = fitness(route,borf)\n",
    "            #print('route',route)\n",
    "            return fit[0], fit[1], fit[2]\n",
    "\n",
    "# Same two_opt function but usable outside the Platypus framework  \n",
    "def two_opt2(route, borf):\n",
    "    route = [0] + route + [0]\n",
    "    fit = fitness(route, borf)\n",
    "    for i in range(1, len(route)-3):\n",
    "        for j in range(i+2, len(route)-1):\n",
    "            if borf[i] == 1 and borf[j] == 1: # If bus is taken on vertex1 and vertex2\n",
    "                fit1 = sum([carbon_bus[route[i]][route[i+1]], carbon_bus[route[j]][route[j+1]],\n",
    "                              time_bus[route[i]][route[i+1]],   time_bus[route[j]][route[j+1]],\n",
    "                              cost_bus[route[i]][route[i+1]],   cost_bus[route[j]][route[j+1]]])     \n",
    "            if borf[i] == 1 and borf[j] == 0: # If bus is taken on vertex1 and flight on vertex2\n",
    "                fit1 = sum([carbon_bus[route[i]][route[i+1]], carbon_flight[route[j]][route[j+1]],\n",
    "                              time_bus[route[i]][route[i+1]],   time_flight[route[j]][route[j+1]],\n",
    "                              cost_bus[route[i]][route[i+1]],   cost_flight[route[j]][route[j+1]]])\n",
    "            if borf[i] == 0 and borf[j] == 1: # If flight is taken on vertex1 and bus on vertex2\n",
    "                fit1 = sum([carbon_flight[route[i]][route[i+1]], carbon_bus[route[j]][route[j+1]],\n",
    "                              time_flight[route[i]][route[i+1]],   time_bus[route[j]][route[j+1]],\n",
    "                              cost_flight[route[i]][route[i+1]],   cost_bus[route[j]][route[j+1]]])\n",
    "            if borf[i] == 0 and borf[j] == 0: # If flight is taken on vertex1 and vertex2\n",
    "                fit1 = sum([carbon_flight[route[i]][route[i+1]],carbon_flight[route[j]][route[j+1]],\n",
    "                              time_flight[route[i]][route[i+1]],  time_flight[route[j]][route[j+1]],\n",
    "                              cost_flight[route[i]][route[i+1]],  cost_flight[route[j]][route[j+1]]])\n",
    "            # bus only substitution\n",
    "            fit2 = sum([carbon_bus[route[i]][route[j]], carbon_bus[route[i+1]][route[j+1]],\n",
    "                          time_bus[route[i]][route[j]],   time_bus[route[i+1]][route[j+1]],\n",
    "                          cost_bus[route[i]][route[j]],   cost_bus[route[i+1]][route[j+1]]])\n",
    "            # first bus then flight\n",
    "            fit3 = sum([carbon_bus[route[i]][route[j]], carbon_flight[route[i+1]][route[j+1]],\n",
    "                          time_bus[route[i]][route[j]],   time_flight[route[i+1]][route[j+1]],\n",
    "                          cost_bus[route[i]][route[j]],   cost_flight[route[i+1]][route[j+1]]])\n",
    "            #first flight then bus\n",
    "            fit4 = sum([carbon_flight[route[i]][route[j]], carbon_bus[route[i+1]][route[j+1]],\n",
    "                          time_flight[route[i]][route[j]],   time_bus[route[i+1]][route[j+1]],\n",
    "                          cost_flight[route[i]][route[j]],   cost_bus[route[i+1]][route[j+1]]])\n",
    "            # flight only substitution\n",
    "            fit5 = sum([carbon_flight[route[i]][route[j]], carbon_flight[route[i+1]][route[j+1]],\n",
    "                          time_flight[route[i]][route[j]],   time_flight[route[i+1]][route[j+1]],\n",
    "                          cost_flight[route[i]][route[j]],   cost_flight[route[i+1]][route[j+1]]]) \n",
    "            # compare old fitness (fit1) with new fitness (fit2345)\n",
    "            minfit = min(fit2,fit3,fit4,fit5)\n",
    "            if minfit < fit1 and minfit == fit2:\n",
    "                route = route[:i+1] + route[j:i:-1] + route[j+1:]\n",
    "                borf[i] = 1\n",
    "                borf[j] = 1\n",
    "               \n",
    "            if minfit < fit1 and minfit == fit3:\n",
    "                route = route[:i+1] + route[j:i:-1] + route[j+1:]\n",
    "                borf[i] = 1\n",
    "                borf[j] = 0\n",
    "           \n",
    "            if minfit < fit1 and minfit == fit4:\n",
    "                route = route[:i+1] + route[j:i:-1] + route[j+1:]\n",
    "                borf[i] = 0\n",
    "                borf[j] = 1\n",
    "            \n",
    "            if minfit < fit1 and minfit == fit5:\n",
    "                route = route[:i+1] + route[j:i:-1] + route[j+1:]\n",
    "                borf[i] = 0\n",
    "                borf[j] = 0\n",
    "\n",
    "            # first improvement strategy (faster)\n",
    "            fit = fitness(route, borf)\n",
    "            return fit[0], fit[1], fit[2], route, borf\n"
   ]
  },
  {
   "cell_type": "markdown",
   "metadata": {},
   "source": [
    "# 3. Run the MOEAs to plot the Pareto fronts and routes "
   ]
  },
  {
   "cell_type": "markdown",
   "metadata": {},
   "source": [
    "## 3.1 Load the already calculated result dataset to skip the long runtime"
   ]
  },
  {
   "cell_type": "code",
   "execution_count": 6,
   "metadata": {},
   "outputs": [
    {
     "name": "stdout",
     "output_type": "stream",
     "text": [
      "60\n",
      "90\n",
      "132\n",
      "59\n",
      "44\n"
     ]
    }
   ],
   "source": [
    "dict_result = pickle.load(open(\"dict_result_3obj_MOTSP12.p\",\"rb\"))\n",
    "df_result        = pickle.load(open(\"df_result_3obj_MOTSP12.p\",\"rb\"))\n",
    "df_result_NSGAII = pickle.load(open(\"df_result_NSGAII_3obj_MOTSP12.p\", \"rb\"))\n",
    "df_result_MOEAD  = pickle.load(open(\"df_result_MOEAD_3obj_MOTSP12.p\", \"rb\"))\n",
    "df_result_IBEA   = pickle.load(open(\"df_result_IBEA_3obj_MOTSP12.p\", \"rb\"))\n",
    "\n",
    "print(len(df_result))\n",
    "print(len(df_result_NSGAII))\n",
    "print(len(df_result_MOEAD))\n",
    "print(len(df_result_IBEA))"
   ]
  },
  {
   "cell_type": "markdown",
   "metadata": {
    "colab_type": "text",
    "id": "KSw30cSWY8_L"
   },
   "source": [
    "## 3.2 Run the algorithm (skip)\n",
    "--> Please note: If the 'df_result' variables have been loaded already, then please skip each cell with the comment '# Skip'."
   ]
  },
  {
   "cell_type": "code",
   "execution_count": 7,
   "metadata": {},
   "outputs": [],
   "source": [
    "# Skip\n",
    "# Define the problem setting\n",
    "# number of variables = 2:\n",
    "# - a permutation list of n cities (excluding city 0, 'route')\n",
    "# - binary list to determine whether bus or flight ('borf')\n",
    "# number of objectives = 3: cost, time and carbondioxide emissions\n",
    "\n",
    "problem = Problem(nvars=2, nobjs=3)\n",
    "problem.types[0:] = Permutation(city_list) # City 0 is always the start and end node\n",
    "problem.types[1:] = Binary(len(city_list)+1)\n",
    "problem.directions[:] = Problem.MINIMIZE\n",
    "problem.function = two_opt"
   ]
  },
  {
   "cell_type": "code",
   "execution_count": 8,
   "metadata": {},
   "outputs": [],
   "source": [
    "# Skip\n",
    "# Define parameters to run the algorithm\n",
    "iterations = 10000             # Number of generations for each MOEA\n",
    "random.seed(8)                 # Set seed to reproduce same results\n",
    "seeds = 30                     # How many seeds (for 30 seeds it took mine more than 60 min)\n",
    "algo_list = [NSGAII, MOEAD, IBEA] # The 3 MOEAs that will be compared\n",
    "\n",
    "# An empty dictionary that will be filled with results and later converted to a DataFrame 'df_result'\n",
    "dict_result = {'cost':[], 'time':[], 'carbon': [], 'route':[], 'borf':[]}\n",
    "df_result = pd.DataFrame()\n",
    "result_NSGAII = []             # To store all result object to later run unique(nondominated()) on\n",
    "result_MOEAD = []              # ...and to plot the pareto fronts for each MOEA\n",
    "result_IBEA = []"
   ]
  },
  {
   "cell_type": "code",
   "execution_count": null,
   "metadata": {
    "scrolled": true
   },
   "outputs": [],
   "source": [
    "# Skip\n",
    "# Run the algorithms\n",
    "# Iterate through s seeds\n",
    "start_time = time.time()\n",
    "for s in range(seeds):\n",
    "    random.seed(s)\n",
    "    print(round(s/seeds*100,2),'%') # Print progress\n",
    "    for algo in algo_list:\n",
    "        print(algo.__name__)\n",
    "        algorithm = algo(problem, variator=PMX())\n",
    "        # While running, print no. of function evaluations, no. of solutions, best cost\n",
    "        algorithm.run(iterations)\n",
    "        \n",
    "        # Append the best solutions for each algorithm of seed s in the dictionary\n",
    "        dict_result['cost'].append([s.objectives[0] for s in unique(nondominated(algorithm.result))])\n",
    "        dict_result['time'].append([s.objectives[1] for s in unique(nondominated(algorithm.result))])\n",
    "        dict_result['carbon'].append([s.objectives[2] for s in unique(nondominated(algorithm.result))])\n",
    "        dict_result['route'].append([s.variables[0] for s in unique(nondominated(algorithm.result))])\n",
    "        dict_result['borf'].append([s.variables[1] for s in unique(nondominated(algorithm.result))])\n",
    "        \n",
    "        # Append the best solutions for each algorithm for the 2D Pareto front-plot\n",
    "        if algo.__name__ == 'NSGAII':\n",
    "            result_NSGAII.append(unique(nondominated(algorithm.result)))\n",
    "        elif algo.__name__ == 'MOEAD':\n",
    "            result_MOEAD.append(unique(nondominated(algorithm.result)))\n",
    "        elif algo.__name__ == 'IBEA':\n",
    "            result_IBEA.append(unique(nondominated(algorithm.result)))\n",
    "\n",
    "end_time = time.time()\n",
    "print(\"Run time = {}\".format(round((end_time-start_time)/60,2)),\"minutes\")\n",
    "\n",
    "# Sound notification\n",
    "import winsound\n",
    "winsound.MessageBeep()"
   ]
  },
  {
   "cell_type": "code",
   "execution_count": null,
   "metadata": {
    "scrolled": true
   },
   "outputs": [],
   "source": [
    "# Skip\n",
    "# Remove the redundant brackets [] and run two_opt2() on the variables route and borf\n",
    "for i in range(len(algo_list)*seeds):\n",
    "    dict_result['cost'][i] = round(dict_result['cost'][i][0],2)\n",
    "    dict_result['time'][i] = round(dict_result['time'][i][0],2)\n",
    "    dict_result['carbon'][i] = round(dict_result['carbon'][i][0],2)\n",
    "    dict_result['route'][i] = dict_result['route'][i][0]\n",
    "    dict_result['borf'][i] = dict_result['borf'][i][0]\n",
    "    \n",
    "    sol = two_opt2(dict_result['route'][i], dict_result['borf'][i])\n",
    "    dict_result['route'][i] = sol[3]\n",
    "    dict_result['borf'][i] = sol[4]\n",
    "    \n",
    "    # Convert True(=bus) and False(=flight) to B and F\n",
    "    for j in range(len(dict_result['borf'][i])):\n",
    "        if dict_result['borf'][i][j] == True:\n",
    "            dict_result['borf'][i][j] = 'B'\n",
    "        elif dict_result['borf'][i][j] == False:\n",
    "            dict_result['borf'][i][j] = 'F'\n",
    "\n",
    "# Create a DataFrame from the dictionary\n",
    "df_result = df_result.from_dict(dict_result)\n",
    "df_result # This DataFrame will be used to plot the route on a world map"
   ]
  },
  {
   "cell_type": "markdown",
   "metadata": {
    "colab_type": "text",
    "id": "c3N_I4kAY8_y"
   },
   "source": [
    "## 3.3 Create DataFrames to plot the routes (skip)"
   ]
  },
  {
   "cell_type": "code",
   "execution_count": 92,
   "metadata": {
    "scrolled": true
   },
   "outputs": [
    {
     "data": {
      "text/html": [
       "<div>\n",
       "<style scoped>\n",
       "    .dataframe tbody tr th:only-of-type {\n",
       "        vertical-align: middle;\n",
       "    }\n",
       "\n",
       "    .dataframe tbody tr th {\n",
       "        vertical-align: top;\n",
       "    }\n",
       "\n",
       "    .dataframe thead th {\n",
       "        text-align: right;\n",
       "    }\n",
       "</style>\n",
       "<table border=\"1\" class=\"dataframe\">\n",
       "  <thead>\n",
       "    <tr style=\"text-align: right;\">\n",
       "      <th></th>\n",
       "      <th>cost</th>\n",
       "      <th>time</th>\n",
       "      <th>carbon</th>\n",
       "      <th>route</th>\n",
       "      <th>borf</th>\n",
       "    </tr>\n",
       "  </thead>\n",
       "  <tbody>\n",
       "    <tr>\n",
       "      <th>19</th>\n",
       "      <td>251</td>\n",
       "      <td>3050</td>\n",
       "      <td>593.062534</td>\n",
       "      <td>[7, 6, 4, 9, 10, 11, 8, 3, 5, 1, 2]</td>\n",
       "      <td>[True, 0, False, 0, False, False, True, True, ...</td>\n",
       "    </tr>\n",
       "    <tr>\n",
       "      <th>25</th>\n",
       "      <td>258</td>\n",
       "      <td>1905</td>\n",
       "      <td>622.459885</td>\n",
       "      <td>[1, 3, 8, 5, 11, 10, 9, 6, 4, 7, 2]</td>\n",
       "      <td>[False, 1, False, 0, False, False, False, Fals...</td>\n",
       "    </tr>\n",
       "    <tr>\n",
       "      <th>26</th>\n",
       "      <td>277</td>\n",
       "      <td>1880</td>\n",
       "      <td>607.094494</td>\n",
       "      <td>[1, 5, 8, 3, 11, 10, 9, 6, 4, 7, 2]</td>\n",
       "      <td>[False, 1, False, 0, False, False, False, Fals...</td>\n",
       "    </tr>\n",
       "    <tr>\n",
       "      <th>14</th>\n",
       "      <td>292</td>\n",
       "      <td>1660</td>\n",
       "      <td>715.278966</td>\n",
       "      <td>[5, 7, 9, 11, 10, 4, 6, 3, 8, 1, 2]</td>\n",
       "      <td>[False, 0, False, 0, False, False, False, Fals...</td>\n",
       "    </tr>\n",
       "    <tr>\n",
       "      <th>5</th>\n",
       "      <td>293</td>\n",
       "      <td>1815</td>\n",
       "      <td>713.770932</td>\n",
       "      <td>[5, 6, 3, 4, 9, 7, 2, 10, 11, 8, 1]</td>\n",
       "      <td>[False, 0, False, 0, False, False, True, False...</td>\n",
       "    </tr>\n",
       "  </tbody>\n",
       "</table>\n",
       "</div>"
      ],
      "text/plain": [
       "    cost  time      carbon                                route  \\\n",
       "19   251  3050  593.062534  [7, 6, 4, 9, 10, 11, 8, 3, 5, 1, 2]   \n",
       "25   258  1905  622.459885  [1, 3, 8, 5, 11, 10, 9, 6, 4, 7, 2]   \n",
       "26   277  1880  607.094494  [1, 5, 8, 3, 11, 10, 9, 6, 4, 7, 2]   \n",
       "14   292  1660  715.278966  [5, 7, 9, 11, 10, 4, 6, 3, 8, 1, 2]   \n",
       "5    293  1815  713.770932  [5, 6, 3, 4, 9, 7, 2, 10, 11, 8, 1]   \n",
       "\n",
       "                                                 borf  \n",
       "19  [True, 0, False, 0, False, False, True, True, ...  \n",
       "25  [False, 1, False, 0, False, False, False, Fals...  \n",
       "26  [False, 1, False, 0, False, False, False, Fals...  \n",
       "14  [False, 0, False, 0, False, False, False, Fals...  \n",
       "5   [False, 0, False, 0, False, False, True, False...  "
      ]
     },
     "execution_count": 92,
     "metadata": {},
     "output_type": "execute_result"
    }
   ],
   "source": [
    "# Skip\n",
    "# The result list is a list of lists and contains result-objects \n",
    "# Here we unpack the list of lists and append it to one list\n",
    "# In the end, each algorithm will have a list of its best solutions found ordered by cost\n",
    "# which can be used to plot the Pareto fronts.\n",
    "# The following Code is repeated 3 times.\n",
    "\n",
    "# Create the NSGAII DataFrame\n",
    "list_NSGAII = []\n",
    "for i in range(len(result_NSGAII)):\n",
    "    for j in range(len(result_NSGAII[i])):\n",
    "        list_NSGAII.append(result_NSGAII[i][j])\n",
    "list_NSGAII = unique(nondominated(list_NSGAII))\n",
    "\n",
    "dict_result_NSGAII = {'cost':[],'time':[],'carbon':[],'route':[],'borf':[]}\n",
    "\n",
    "for i in range(len(list_NSGAII)):\n",
    "    dict_result_NSGAII['cost'].append(round(list_NSGAII[i].objectives[0],2))\n",
    "    dict_result_NSGAII['time'].append(list_NSGAII[i].objectives[1])\n",
    "    dict_result_NSGAII['carbon'].append(list_NSGAII[i].objectives[2])\n",
    "    dict_result_NSGAII['route'].append(list_NSGAII[i].variables[0])\n",
    "    dict_result_NSGAII['borf'].append(list_NSGAII[i].variables[1])\n",
    "\n",
    "df_result_NSGAII = pd.DataFrame()\n",
    "df_result_NSGAII = df_result_NSGAII.from_dict(dict_result_NSGAII)\n",
    "df_result_NSGAII = df_result_NSGAII.sort_values(by=['cost'])\n",
    "\n",
    "# Create the MOEA/D DataFrame\n",
    "\n",
    "list_MOEAD = []\n",
    "for i in range(len(result_MOEAD)):\n",
    "    for j in range(len(result_MOEAD[i])):\n",
    "        list_MOEAD.append(result_MOEAD[i][j])\n",
    "list_MOEAD = unique(nondominated(list_MOEAD))\n",
    "\n",
    "dict_result_MOEAD = {'cost':[],'time':[],'carbon':[],'route':[],'borf':[]}\n",
    "\n",
    "for i in range(len(list_MOEAD)):\n",
    "    dict_result_MOEAD['cost'].append(round(list_MOEAD[i].objectives[0],2))\n",
    "    dict_result_MOEAD['time'].append(list_MOEAD[i].objectives[1])\n",
    "    dict_result_MOEAD['carbon'].append(list_MOEAD[i].objectives[2])\n",
    "    dict_result_MOEAD['route'].append(list_MOEAD[i].variables[0])\n",
    "    dict_result_MOEAD['borf'].append(list_MOEAD[i].variables[1])\n",
    "\n",
    "df_result_MOEAD = pd.DataFrame()\n",
    "df_result_MOEAD = df_result_MOEAD.from_dict(dict_result_MOEAD)\n",
    "df_result_MOEAD = df_result_MOEAD.sort_values(by=['cost'])\n",
    "\n",
    "# Create the IBEA DataFrame\n",
    "\n",
    "list_IBEA = []\n",
    "for i in range(len(result_IBEA)):\n",
    "    for j in range(len(result_IBEA[i])):\n",
    "        list_IBEA.append(result_IBEA[i][j])\n",
    "list_IBEA = unique(nondominated(list_IBEA))\n",
    "\n",
    "dict_result_IBEA = {'cost':[],'time':[],'carbon':[],'route':[],'borf':[]}\n",
    "\n",
    "for i in range(len(list_IBEA)):\n",
    "    dict_result_IBEA['cost'].append(round(list_IBEA[i].objectives[0],2))\n",
    "    dict_result_IBEA['time'].append(list_IBEA[i].objectives[1])\n",
    "    dict_result_IBEA['carbon'].append(list_IBEA[i].objectives[2])\n",
    "    dict_result_IBEA['route'].append(list_IBEA[i].variables[0])\n",
    "    dict_result_IBEA['borf'].append(list_IBEA[i].variables[1])\n",
    "\n",
    "df_result_IBEA = pd.DataFrame()\n",
    "df_result_IBEA = df_result_IBEA.from_dict(dict_result_IBEA)\n",
    "df_result_IBEA = df_result_IBEA.sort_values(by=['cost'])\n",
    "df_result_IBEA.head()"
   ]
  },
  {
   "cell_type": "code",
   "execution_count": 96,
   "metadata": {},
   "outputs": [],
   "source": [
    "# Skip\n",
    "# Store the results\n",
    "import pickle\n",
    "pickle.dump(dict_result, open(\"dict_result_3obj_MOTSP12.p\", \"wb\"))\n",
    "pickle.dump(df_result, open(\"df_result_3obj_MOTSP12.p\",\"wb\"))\n",
    "pickle.dump(df_result_NSGAII, open(\"df_result_NSGAII_3obj_MOTSP12.p\", \"wb\"))\n",
    "pickle.dump(df_result_MOEAD, open(\"df_result_MOEAD_3obj_MOTSP12.p\", \"wb\"))\n",
    "pickle.dump(df_result_IBEA, open(\"df_result_IBEA_3obj_MOTSP12.p\", \"wb\"))"
   ]
  },
  {
   "cell_type": "code",
   "execution_count": 97,
   "metadata": {},
   "outputs": [],
   "source": [
    "# Skip\n",
    "# Store the results in Excel files\n",
    "import openpyxl\n",
    "df_result.to_excel(\"Results tri-objective MOTSP12.xlsx\")"
   ]
  },
  {
   "cell_type": "markdown",
   "metadata": {
    "colab_type": "text",
    "id": "cE4rtcESY9AO"
   },
   "source": [
    "--> Skip until here.\n"
   ]
  },
  {
   "cell_type": "markdown",
   "metadata": {},
   "source": [
    "## 3.4 Plot the Pareto fronts"
   ]
  },
  {
   "cell_type": "code",
   "execution_count": 23,
   "metadata": {
    "scrolled": false
   },
   "outputs": [
    {
     "data": {
      "application/vnd.plotly.v1+json": {
       "config": {
        "plotlyServerURL": "https://plot.ly"
       },
       "data": [
        {
         "marker": {
          "size": 5
         },
         "mode": "markers",
         "name": "NSGA-II",
         "type": "scatter3d",
         "x": [
          237,
          241,
          242,
          244,
          244,
          246,
          252,
          252,
          253,
          254,
          260,
          265,
          265,
          267,
          270,
          273,
          273,
          275,
          275,
          275,
          276,
          276,
          277,
          284,
          284,
          285,
          289,
          289,
          294,
          300,
          300,
          300,
          302,
          305,
          307,
          310,
          315,
          316,
          319,
          320,
          321,
          321,
          323,
          323,
          323,
          324,
          324,
          326,
          326,
          328,
          329,
          329,
          329,
          330,
          334,
          335,
          337,
          337,
          337,
          338,
          340,
          341,
          341,
          342,
          345,
          345,
          347,
          347,
          348,
          348,
          351,
          351,
          352,
          353,
          356,
          358,
          358,
          358,
          359,
          359,
          362,
          362,
          370,
          371,
          372,
          378,
          387,
          388,
          389,
          390,
          394,
          394,
          395,
          403,
          407,
          410,
          420,
          420,
          425,
          429,
          430,
          430,
          432,
          434,
          440,
          456,
          456,
          457,
          460,
          461,
          464,
          468,
          468,
          504,
          522,
          528,
          558,
          570,
          585,
          593,
          615,
          617,
          622,
          623,
          630,
          631,
          659,
          666,
          677,
          682,
          750,
          751
         ],
         "y": [
          4230,
          4185,
          2045,
          5105,
          2330,
          2730,
          2020,
          4865,
          2140,
          3845,
          1685,
          5095,
          1960,
          2375,
          3800,
          4855,
          2500,
          3970,
          2135,
          1935,
          2100,
          1595,
          2945,
          1860,
          2760,
          2705,
          2430,
          2660,
          4455,
          1490,
          3775,
          2135,
          2365,
          2065,
          4005,
          1845,
          3765,
          3305,
          1475,
          1285,
          3540,
          1760,
          5388,
          3380,
          1805,
          4620,
          1585,
          3060,
          1470,
          7225,
          3480,
          1755,
          2865,
          1390,
          6995,
          2800,
          3920,
          1235,
          6390,
          6175,
          1555,
          1465,
          1380,
          1380,
          4855,
          6150,
          1365,
          3470,
          2245,
          3930,
          1325,
          1925,
          1845,
          2660,
          3690,
          4525,
          1215,
          5990,
          5745,
          1330,
          3245,
          1175,
          3405,
          1310,
          1120,
          2770,
          2110,
          2325,
          2395,
          4315,
          4260,
          1920,
          6050,
          3220,
          5985,
          3290,
          5730,
          2845,
          2385,
          4180,
          1310,
          4445,
          5675,
          3995,
          1305,
          2270,
          3030,
          1255,
          1105,
          2555,
          4500,
          1720,
          3330,
          1905,
          1650,
          1085,
          1080,
          1530,
          1435,
          1060,
          8752,
          1045,
          8647,
          8202,
          8097,
          8477,
          8372,
          8267,
          7862,
          8037,
          7670,
          7425
         ],
         "z": [
          1268.8182011643996,
          1201.3182011643996,
          770.0891890197619,
          539.3921377751429,
          701.8547346845969,
          598.7300327280664,
          754.7237975334891,
          553.1734813180942,
          649.5934001133919,
          589.0170906658817,
          730.6443572954802,
          480.4604569515239,
          717.8468579664345,
          623.9413909016679,
          561.3593859905908,
          494.2418004944752,
          598.1298289986507,
          554.4079413913464,
          637.7227344446192,
          702.4814664801618,
          625.0087737353555,
          675.3289479448982,
          546.1230647081269,
          638.7901172783068,
          590.7757403970388,
          559.9044082510782,
          587.364553199321,
          555.7069365665028,
          541.6484490980561,
          769.150876389883,
          545.9939945043179,
          582.0046810916696,
          547.4145353350119,
          635.7550460168077,
          531.9315526145365,
          647.16605712958,
          545.7128961574878,
          526.9173139556196,
          748.2015250027614,
          789.7811223944188,
          510.0628921154138,
          662.3718959245599,
          476.96652201829096,
          523.1604933091672,
          604.9862560085068,
          496.4335767154838,
          669.1827913503892,
          520.0304044582797,
          745.1284467055071,
          455.2910602350127,
          517.173889405951,
          659.2988176273053,
          540.9417488096458,
          695.959193949434,
          448.82579825791805,
          521.5194348122128,
          506.0819836757642,
          759.0503394218736,
          423.02176090317255,
          422.8432046940021,
          650.7443215668618,
          595.42891221628,
          701.5431538502829,
          689.8130373549251,
          476.6466257514385,
          436.80310444612394,
          680.5938024631614,
          511.02773281144187,
          567.5015881637651,
          485.8353781557183,
          667.7392925804829,
          564.3714993128776,
          585.5829455289514,
          538.1117618234662,
          499.6167216986696,
          455.6402638106841,
          746.7580262328552,
          444.0356473921985,
          437.1487378948586,
          659.0822543823796,
          519.3656656269595,
          722.1733998548189,
          471.07771494713273,
          646.7899411933615,
          688.3695385850186,
          523.6086688955616,
          563.7067604815575,
          555.0877293192095,
          536.5277138801447,
          467.33237327028655,
          454.05621586736265,
          581.8261248824991,
          431.0595918539824,
          515.7303906360446,
          429.23245259958617,
          505.9679625684982,
          422.064444755416,
          519.8518482491093,
          542.1116737809934,
          463.53754558807884,
          646.7899411933614,
          453.3914770360425,
          420.5184038478499,
          464.202284419399,
          643.7168628961068,
          562.3392757831616,
          519.1871094177891,
          612.9860799235613,
          679.1503036932552,
          532.2277000579097,
          440.2748723244113,
          585.0017453174135,
          498.2947685843007,
          584.3370064860933,
          594.7641733849599,
          666.857990504237,
          663.7849122069824,
          582.5934058514791,
          609.2482627949867,
          651.4925990179643,
          404.373845833122,
          642.2733641262005,
          401.4223131914049,
          388.913436757461,
          385.9619041157439,
          381.98099567609427,
          379.02946303437716,
          376.07793039266005,
          391.08620946059193,
          384.2753140347627,
          417.9469415636861,
          416.92509031402506
         ]
        },
        {
         "marker": {
          "size": 5
         },
         "mode": "markers",
         "name": "MOEA/D",
         "type": "scatter3d",
         "x": [
          229,
          234,
          250,
          250,
          252,
          259,
          267,
          273,
          277,
          277,
          282,
          283,
          284,
          288,
          292,
          297,
          297,
          299,
          301,
          311,
          311,
          312,
          322,
          327,
          328,
          329,
          332,
          335,
          345,
          349,
          350,
          354,
          358,
          358,
          360,
          360,
          362,
          363,
          364,
          369,
          371,
          383,
          385,
          388,
          396,
          399,
          401,
          410,
          413,
          415,
          416,
          438,
          441,
          454,
          459,
          559,
          569,
          667,
          688
         ],
         "y": [
          3695,
          3615,
          3765,
          3515,
          3250,
          3470,
          3750,
          3220,
          3210,
          4050,
          2725,
          1940,
          3590,
          2130,
          2595,
          1640,
          3445,
          2505,
          3095,
          1545,
          2255,
          2060,
          1510,
          3610,
          2205,
          2010,
          1485,
          1865,
          1470,
          2495,
          1520,
          1815,
          2925,
          1215,
          1440,
          2180,
          1420,
          2005,
          1390,
          3880,
          1765,
          1365,
          1520,
          3090,
          1365,
          1510,
          1325,
          4035,
          1315,
          1685,
          1490,
          1990,
          1550,
          1190,
          1155,
          1110,
          1280,
          8795,
          1085
         ],
         "z": [
          1375.5169234989648,
          1575.959579706738,
          583.8357747674006,
          1558.4296945852661,
          1853.3311627869066,
          1490.9296945852661,
          574.6165398756369,
          1808.3311627869066,
          1605.3586214576617,
          565.4543155375063,
          686.5653572698347,
          705.5545447774164,
          575.9840245740326,
          655.1773600142408,
          606.6653215412165,
          702.9866526201891,
          530.8526908112425,
          651.0559024011759,
          594.3274767681717,
          644.5981649723527,
          617.6356816158659,
          612.154263852677,
          769.7130730835433,
          520.8281679147435,
          586.9048986433204,
          581.4234808801315,
          754.3476815972706,
          630.1330790802036,
          745.1284467055069,
          580.394105082199,
          629.2327734860801,
          611.132412603016,
          522.1006350237509,
          746.7580262328552,
          726.6899769219797,
          580.337094528566,
          714.3976637329614,
          566.6202860875192,
          695.9591939494342,
          481.4973572977278,
          580.4016296304704,
          680.5938024631615,
          629.23277348608,
          512.076112127252,
          680.5938024631614,
          655.3444372538049,
          667.7392925804828,
          471.1917360543987,
          649.8630194906159,
          616.2757214657416,
          610.7943037025527,
          557.4010511957555,
          606.6158355358552,
          731.3926347465824,
          709.8810866658007,
          682.2233819905097,
          628.3514714098341,
          440.77291821056525,
          666.8579905042369
         ]
        },
        {
         "marker": {
          "size": 5
         },
         "mode": "markers",
         "name": "IBEA",
         "type": "scatter3d",
         "x": [
          251,
          258,
          277,
          292,
          293,
          296,
          299,
          299,
          310,
          315,
          317,
          319,
          323,
          323,
          326,
          329,
          332,
          334,
          340,
          342,
          349,
          352,
          353,
          359,
          373,
          391,
          393,
          396,
          398,
          400,
          411,
          424,
          445,
          448,
          449,
          461,
          476,
          499,
          500,
          504,
          538,
          562,
          563,
          594
         ],
         "y": [
          3050,
          1905,
          1880,
          1660,
          1815,
          1630,
          1490,
          3373,
          1700,
          1605,
          1685,
          1475,
          3165,
          1510,
          1275,
          1830,
          1405,
          1375,
          1460,
          1380,
          1355,
          1330,
          1190,
          1330,
          1150,
          3535,
          4890,
          4710,
          2095,
          1315,
          1290,
          1135,
          1275,
          8107,
          4980,
          1110,
          1265,
          6422,
          1250,
          1265,
          6770,
          1100,
          1075,
          1065
         ],
         "z": [
          1375.5169234989648,
          1575.959579706738,
          583.8357747674006,
          1558.4296945852661,
          1853.3311627869066,
          1490.9296945852661,
          574.6165398756369,
          1808.3311627869066,
          1605.3586214576617,
          565.4543155375063,
          686.5653572698347,
          705.5545447774164,
          575.9840245740326,
          655.1773600142408,
          606.6653215412165,
          702.9866526201891,
          530.8526908112425,
          651.0559024011759,
          594.3274767681717,
          644.5981649723527,
          617.6356816158659,
          612.154263852677,
          769.7130730835433,
          520.8281679147435,
          586.9048986433204,
          581.4234808801315,
          754.3476815972706,
          630.1330790802036,
          745.1284467055069,
          580.394105082199,
          629.2327734860801,
          611.132412603016,
          522.1006350237509,
          746.7580262328552,
          726.6899769219797,
          580.337094528566,
          714.3976637329614,
          566.6202860875192,
          695.9591939494342,
          481.4973572977278,
          580.4016296304704,
          680.5938024631615,
          629.23277348608,
          512.076112127252,
          680.5938024631614,
          655.3444372538049,
          667.7392925804828,
          471.1917360543987,
          649.8630194906159,
          616.2757214657416,
          610.7943037025527,
          557.4010511957555,
          606.6158355358552,
          731.3926347465824,
          709.8810866658007,
          682.2233819905097,
          628.3514714098341,
          440.77291821056525,
          666.8579905042369
         ]
        }
       ],
       "layout": {
        "scene": {
         "xaxis": {
          "title": {
           "text": "cost(x)"
          }
         },
         "yaxis": {
          "title": {
           "text": "time(y)"
          }
         },
         "zaxis": {
          "title": {
           "text": "emission(z)"
          }
         }
        },
        "template": {
         "data": {
          "bar": [
           {
            "error_x": {
             "color": "#2a3f5f"
            },
            "error_y": {
             "color": "#2a3f5f"
            },
            "marker": {
             "line": {
              "color": "#E5ECF6",
              "width": 0.5
             }
            },
            "type": "bar"
           }
          ],
          "barpolar": [
           {
            "marker": {
             "line": {
              "color": "#E5ECF6",
              "width": 0.5
             }
            },
            "type": "barpolar"
           }
          ],
          "carpet": [
           {
            "aaxis": {
             "endlinecolor": "#2a3f5f",
             "gridcolor": "white",
             "linecolor": "white",
             "minorgridcolor": "white",
             "startlinecolor": "#2a3f5f"
            },
            "baxis": {
             "endlinecolor": "#2a3f5f",
             "gridcolor": "white",
             "linecolor": "white",
             "minorgridcolor": "white",
             "startlinecolor": "#2a3f5f"
            },
            "type": "carpet"
           }
          ],
          "choropleth": [
           {
            "colorbar": {
             "outlinewidth": 0,
             "ticks": ""
            },
            "type": "choropleth"
           }
          ],
          "contour": [
           {
            "colorbar": {
             "outlinewidth": 0,
             "ticks": ""
            },
            "colorscale": [
             [
              0,
              "#0d0887"
             ],
             [
              0.1111111111111111,
              "#46039f"
             ],
             [
              0.2222222222222222,
              "#7201a8"
             ],
             [
              0.3333333333333333,
              "#9c179e"
             ],
             [
              0.4444444444444444,
              "#bd3786"
             ],
             [
              0.5555555555555556,
              "#d8576b"
             ],
             [
              0.6666666666666666,
              "#ed7953"
             ],
             [
              0.7777777777777778,
              "#fb9f3a"
             ],
             [
              0.8888888888888888,
              "#fdca26"
             ],
             [
              1,
              "#f0f921"
             ]
            ],
            "type": "contour"
           }
          ],
          "contourcarpet": [
           {
            "colorbar": {
             "outlinewidth": 0,
             "ticks": ""
            },
            "type": "contourcarpet"
           }
          ],
          "heatmap": [
           {
            "colorbar": {
             "outlinewidth": 0,
             "ticks": ""
            },
            "colorscale": [
             [
              0,
              "#0d0887"
             ],
             [
              0.1111111111111111,
              "#46039f"
             ],
             [
              0.2222222222222222,
              "#7201a8"
             ],
             [
              0.3333333333333333,
              "#9c179e"
             ],
             [
              0.4444444444444444,
              "#bd3786"
             ],
             [
              0.5555555555555556,
              "#d8576b"
             ],
             [
              0.6666666666666666,
              "#ed7953"
             ],
             [
              0.7777777777777778,
              "#fb9f3a"
             ],
             [
              0.8888888888888888,
              "#fdca26"
             ],
             [
              1,
              "#f0f921"
             ]
            ],
            "type": "heatmap"
           }
          ],
          "heatmapgl": [
           {
            "colorbar": {
             "outlinewidth": 0,
             "ticks": ""
            },
            "colorscale": [
             [
              0,
              "#0d0887"
             ],
             [
              0.1111111111111111,
              "#46039f"
             ],
             [
              0.2222222222222222,
              "#7201a8"
             ],
             [
              0.3333333333333333,
              "#9c179e"
             ],
             [
              0.4444444444444444,
              "#bd3786"
             ],
             [
              0.5555555555555556,
              "#d8576b"
             ],
             [
              0.6666666666666666,
              "#ed7953"
             ],
             [
              0.7777777777777778,
              "#fb9f3a"
             ],
             [
              0.8888888888888888,
              "#fdca26"
             ],
             [
              1,
              "#f0f921"
             ]
            ],
            "type": "heatmapgl"
           }
          ],
          "histogram": [
           {
            "marker": {
             "colorbar": {
              "outlinewidth": 0,
              "ticks": ""
             }
            },
            "type": "histogram"
           }
          ],
          "histogram2d": [
           {
            "colorbar": {
             "outlinewidth": 0,
             "ticks": ""
            },
            "colorscale": [
             [
              0,
              "#0d0887"
             ],
             [
              0.1111111111111111,
              "#46039f"
             ],
             [
              0.2222222222222222,
              "#7201a8"
             ],
             [
              0.3333333333333333,
              "#9c179e"
             ],
             [
              0.4444444444444444,
              "#bd3786"
             ],
             [
              0.5555555555555556,
              "#d8576b"
             ],
             [
              0.6666666666666666,
              "#ed7953"
             ],
             [
              0.7777777777777778,
              "#fb9f3a"
             ],
             [
              0.8888888888888888,
              "#fdca26"
             ],
             [
              1,
              "#f0f921"
             ]
            ],
            "type": "histogram2d"
           }
          ],
          "histogram2dcontour": [
           {
            "colorbar": {
             "outlinewidth": 0,
             "ticks": ""
            },
            "colorscale": [
             [
              0,
              "#0d0887"
             ],
             [
              0.1111111111111111,
              "#46039f"
             ],
             [
              0.2222222222222222,
              "#7201a8"
             ],
             [
              0.3333333333333333,
              "#9c179e"
             ],
             [
              0.4444444444444444,
              "#bd3786"
             ],
             [
              0.5555555555555556,
              "#d8576b"
             ],
             [
              0.6666666666666666,
              "#ed7953"
             ],
             [
              0.7777777777777778,
              "#fb9f3a"
             ],
             [
              0.8888888888888888,
              "#fdca26"
             ],
             [
              1,
              "#f0f921"
             ]
            ],
            "type": "histogram2dcontour"
           }
          ],
          "mesh3d": [
           {
            "colorbar": {
             "outlinewidth": 0,
             "ticks": ""
            },
            "type": "mesh3d"
           }
          ],
          "parcoords": [
           {
            "line": {
             "colorbar": {
              "outlinewidth": 0,
              "ticks": ""
             }
            },
            "type": "parcoords"
           }
          ],
          "pie": [
           {
            "automargin": true,
            "type": "pie"
           }
          ],
          "scatter": [
           {
            "marker": {
             "colorbar": {
              "outlinewidth": 0,
              "ticks": ""
             }
            },
            "type": "scatter"
           }
          ],
          "scatter3d": [
           {
            "line": {
             "colorbar": {
              "outlinewidth": 0,
              "ticks": ""
             }
            },
            "marker": {
             "colorbar": {
              "outlinewidth": 0,
              "ticks": ""
             }
            },
            "type": "scatter3d"
           }
          ],
          "scattercarpet": [
           {
            "marker": {
             "colorbar": {
              "outlinewidth": 0,
              "ticks": ""
             }
            },
            "type": "scattercarpet"
           }
          ],
          "scattergeo": [
           {
            "marker": {
             "colorbar": {
              "outlinewidth": 0,
              "ticks": ""
             }
            },
            "type": "scattergeo"
           }
          ],
          "scattergl": [
           {
            "marker": {
             "colorbar": {
              "outlinewidth": 0,
              "ticks": ""
             }
            },
            "type": "scattergl"
           }
          ],
          "scattermapbox": [
           {
            "marker": {
             "colorbar": {
              "outlinewidth": 0,
              "ticks": ""
             }
            },
            "type": "scattermapbox"
           }
          ],
          "scatterpolar": [
           {
            "marker": {
             "colorbar": {
              "outlinewidth": 0,
              "ticks": ""
             }
            },
            "type": "scatterpolar"
           }
          ],
          "scatterpolargl": [
           {
            "marker": {
             "colorbar": {
              "outlinewidth": 0,
              "ticks": ""
             }
            },
            "type": "scatterpolargl"
           }
          ],
          "scatterternary": [
           {
            "marker": {
             "colorbar": {
              "outlinewidth": 0,
              "ticks": ""
             }
            },
            "type": "scatterternary"
           }
          ],
          "surface": [
           {
            "colorbar": {
             "outlinewidth": 0,
             "ticks": ""
            },
            "colorscale": [
             [
              0,
              "#0d0887"
             ],
             [
              0.1111111111111111,
              "#46039f"
             ],
             [
              0.2222222222222222,
              "#7201a8"
             ],
             [
              0.3333333333333333,
              "#9c179e"
             ],
             [
              0.4444444444444444,
              "#bd3786"
             ],
             [
              0.5555555555555556,
              "#d8576b"
             ],
             [
              0.6666666666666666,
              "#ed7953"
             ],
             [
              0.7777777777777778,
              "#fb9f3a"
             ],
             [
              0.8888888888888888,
              "#fdca26"
             ],
             [
              1,
              "#f0f921"
             ]
            ],
            "type": "surface"
           }
          ],
          "table": [
           {
            "cells": {
             "fill": {
              "color": "#EBF0F8"
             },
             "line": {
              "color": "white"
             }
            },
            "header": {
             "fill": {
              "color": "#C8D4E3"
             },
             "line": {
              "color": "white"
             }
            },
            "type": "table"
           }
          ]
         },
         "layout": {
          "annotationdefaults": {
           "arrowcolor": "#2a3f5f",
           "arrowhead": 0,
           "arrowwidth": 1
          },
          "coloraxis": {
           "colorbar": {
            "outlinewidth": 0,
            "ticks": ""
           }
          },
          "colorscale": {
           "diverging": [
            [
             0,
             "#8e0152"
            ],
            [
             0.1,
             "#c51b7d"
            ],
            [
             0.2,
             "#de77ae"
            ],
            [
             0.3,
             "#f1b6da"
            ],
            [
             0.4,
             "#fde0ef"
            ],
            [
             0.5,
             "#f7f7f7"
            ],
            [
             0.6,
             "#e6f5d0"
            ],
            [
             0.7,
             "#b8e186"
            ],
            [
             0.8,
             "#7fbc41"
            ],
            [
             0.9,
             "#4d9221"
            ],
            [
             1,
             "#276419"
            ]
           ],
           "sequential": [
            [
             0,
             "#0d0887"
            ],
            [
             0.1111111111111111,
             "#46039f"
            ],
            [
             0.2222222222222222,
             "#7201a8"
            ],
            [
             0.3333333333333333,
             "#9c179e"
            ],
            [
             0.4444444444444444,
             "#bd3786"
            ],
            [
             0.5555555555555556,
             "#d8576b"
            ],
            [
             0.6666666666666666,
             "#ed7953"
            ],
            [
             0.7777777777777778,
             "#fb9f3a"
            ],
            [
             0.8888888888888888,
             "#fdca26"
            ],
            [
             1,
             "#f0f921"
            ]
           ],
           "sequentialminus": [
            [
             0,
             "#0d0887"
            ],
            [
             0.1111111111111111,
             "#46039f"
            ],
            [
             0.2222222222222222,
             "#7201a8"
            ],
            [
             0.3333333333333333,
             "#9c179e"
            ],
            [
             0.4444444444444444,
             "#bd3786"
            ],
            [
             0.5555555555555556,
             "#d8576b"
            ],
            [
             0.6666666666666666,
             "#ed7953"
            ],
            [
             0.7777777777777778,
             "#fb9f3a"
            ],
            [
             0.8888888888888888,
             "#fdca26"
            ],
            [
             1,
             "#f0f921"
            ]
           ]
          },
          "colorway": [
           "#636efa",
           "#EF553B",
           "#00cc96",
           "#ab63fa",
           "#FFA15A",
           "#19d3f3",
           "#FF6692",
           "#B6E880",
           "#FF97FF",
           "#FECB52"
          ],
          "font": {
           "color": "#2a3f5f"
          },
          "geo": {
           "bgcolor": "white",
           "lakecolor": "white",
           "landcolor": "#E5ECF6",
           "showlakes": true,
           "showland": true,
           "subunitcolor": "white"
          },
          "hoverlabel": {
           "align": "left"
          },
          "hovermode": "closest",
          "mapbox": {
           "style": "light"
          },
          "paper_bgcolor": "white",
          "plot_bgcolor": "#E5ECF6",
          "polar": {
           "angularaxis": {
            "gridcolor": "white",
            "linecolor": "white",
            "ticks": ""
           },
           "bgcolor": "#E5ECF6",
           "radialaxis": {
            "gridcolor": "white",
            "linecolor": "white",
            "ticks": ""
           }
          },
          "scene": {
           "xaxis": {
            "backgroundcolor": "#E5ECF6",
            "gridcolor": "white",
            "gridwidth": 2,
            "linecolor": "white",
            "showbackground": true,
            "ticks": "",
            "zerolinecolor": "white"
           },
           "yaxis": {
            "backgroundcolor": "#E5ECF6",
            "gridcolor": "white",
            "gridwidth": 2,
            "linecolor": "white",
            "showbackground": true,
            "ticks": "",
            "zerolinecolor": "white"
           },
           "zaxis": {
            "backgroundcolor": "#E5ECF6",
            "gridcolor": "white",
            "gridwidth": 2,
            "linecolor": "white",
            "showbackground": true,
            "ticks": "",
            "zerolinecolor": "white"
           }
          },
          "shapedefaults": {
           "line": {
            "color": "#2a3f5f"
           }
          },
          "ternary": {
           "aaxis": {
            "gridcolor": "white",
            "linecolor": "white",
            "ticks": ""
           },
           "baxis": {
            "gridcolor": "white",
            "linecolor": "white",
            "ticks": ""
           },
           "bgcolor": "#E5ECF6",
           "caxis": {
            "gridcolor": "white",
            "linecolor": "white",
            "ticks": ""
           }
          },
          "title": {
           "x": 0.05
          },
          "xaxis": {
           "automargin": true,
           "gridcolor": "white",
           "linecolor": "white",
           "ticks": "",
           "title": {
            "standoff": 15
           },
           "zerolinecolor": "white",
           "zerolinewidth": 2
          },
          "yaxis": {
           "automargin": true,
           "gridcolor": "white",
           "linecolor": "white",
           "ticks": "",
           "title": {
            "standoff": 15
           },
           "zerolinecolor": "white",
           "zerolinewidth": 2
          }
         }
        }
       }
      },
      "text/html": [
       "<div>\n",
       "        \n",
       "        \n",
       "            <div id=\"5e82436d-753f-4878-9b2b-ec1725c7dd45\" class=\"plotly-graph-div\" style=\"height:525px; width:100%;\"></div>\n",
       "            <script type=\"text/javascript\">\n",
       "                require([\"plotly\"], function(Plotly) {\n",
       "                    window.PLOTLYENV=window.PLOTLYENV || {};\n",
       "                    \n",
       "                if (document.getElementById(\"5e82436d-753f-4878-9b2b-ec1725c7dd45\")) {\n",
       "                    Plotly.newPlot(\n",
       "                        '5e82436d-753f-4878-9b2b-ec1725c7dd45',\n",
       "                        [{\"marker\": {\"size\": 5}, \"mode\": \"markers\", \"name\": \"NSGA-II\", \"type\": \"scatter3d\", \"x\": [237, 241, 242, 244, 244, 246, 252, 252, 253, 254, 260, 265, 265, 267, 270, 273, 273, 275, 275, 275, 276, 276, 277, 284, 284, 285, 289, 289, 294, 300, 300, 300, 302, 305, 307, 310, 315, 316, 319, 320, 321, 321, 323, 323, 323, 324, 324, 326, 326, 328, 329, 329, 329, 330, 334, 335, 337, 337, 337, 338, 340, 341, 341, 342, 345, 345, 347, 347, 348, 348, 351, 351, 352, 353, 356, 358, 358, 358, 359, 359, 362, 362, 370, 371, 372, 378, 387, 388, 389, 390, 394, 394, 395, 403, 407, 410, 420, 420, 425, 429, 430, 430, 432, 434, 440, 456, 456, 457, 460, 461, 464, 468, 468, 504, 522, 528, 558, 570, 585, 593, 615, 617, 622, 623, 630, 631, 659, 666, 677, 682, 750, 751], \"y\": [4230, 4185, 2045, 5105, 2330, 2730, 2020, 4865, 2140, 3845, 1685, 5095, 1960, 2375, 3800, 4855, 2500, 3970, 2135, 1935, 2100, 1595, 2945, 1860, 2760, 2705, 2430, 2660, 4455, 1490, 3775, 2135, 2365, 2065, 4005, 1845, 3765, 3305, 1475, 1285, 3540, 1760, 5388, 3380, 1805, 4620, 1585, 3060, 1470, 7225, 3480, 1755, 2865, 1390, 6995, 2800, 3920, 1235, 6390, 6175, 1555, 1465, 1380, 1380, 4855, 6150, 1365, 3470, 2245, 3930, 1325, 1925, 1845, 2660, 3690, 4525, 1215, 5990, 5745, 1330, 3245, 1175, 3405, 1310, 1120, 2770, 2110, 2325, 2395, 4315, 4260, 1920, 6050, 3220, 5985, 3290, 5730, 2845, 2385, 4180, 1310, 4445, 5675, 3995, 1305, 2270, 3030, 1255, 1105, 2555, 4500, 1720, 3330, 1905, 1650, 1085, 1080, 1530, 1435, 1060, 8752, 1045, 8647, 8202, 8097, 8477, 8372, 8267, 7862, 8037, 7670, 7425], \"z\": [1268.8182011643996, 1201.3182011643996, 770.0891890197619, 539.3921377751429, 701.8547346845969, 598.7300327280664, 754.7237975334891, 553.1734813180942, 649.5934001133919, 589.0170906658817, 730.6443572954802, 480.4604569515239, 717.8468579664345, 623.9413909016679, 561.3593859905908, 494.2418004944752, 598.1298289986507, 554.4079413913464, 637.7227344446192, 702.4814664801618, 625.0087737353555, 675.3289479448982, 546.1230647081269, 638.7901172783068, 590.7757403970388, 559.9044082510782, 587.364553199321, 555.7069365665028, 541.6484490980561, 769.150876389883, 545.9939945043179, 582.0046810916696, 547.4145353350119, 635.7550460168077, 531.9315526145365, 647.16605712958, 545.7128961574878, 526.9173139556196, 748.2015250027614, 789.7811223944188, 510.0628921154138, 662.3718959245599, 476.96652201829096, 523.1604933091672, 604.9862560085068, 496.4335767154838, 669.1827913503892, 520.0304044582797, 745.1284467055071, 455.2910602350127, 517.173889405951, 659.2988176273053, 540.9417488096458, 695.959193949434, 448.82579825791805, 521.5194348122128, 506.0819836757642, 759.0503394218736, 423.02176090317255, 422.8432046940021, 650.7443215668618, 595.42891221628, 701.5431538502829, 689.8130373549251, 476.6466257514385, 436.80310444612394, 680.5938024631614, 511.02773281144187, 567.5015881637651, 485.8353781557183, 667.7392925804829, 564.3714993128776, 585.5829455289514, 538.1117618234662, 499.6167216986696, 455.6402638106841, 746.7580262328552, 444.0356473921985, 437.1487378948586, 659.0822543823796, 519.3656656269595, 722.1733998548189, 471.07771494713273, 646.7899411933615, 688.3695385850186, 523.6086688955616, 563.7067604815575, 555.0877293192095, 536.5277138801447, 467.33237327028655, 454.05621586736265, 581.8261248824991, 431.0595918539824, 515.7303906360446, 429.23245259958617, 505.9679625684982, 422.064444755416, 519.8518482491093, 542.1116737809934, 463.53754558807884, 646.7899411933614, 453.3914770360425, 420.5184038478499, 464.202284419399, 643.7168628961068, 562.3392757831616, 519.1871094177891, 612.9860799235613, 679.1503036932552, 532.2277000579097, 440.2748723244113, 585.0017453174135, 498.2947685843007, 584.3370064860933, 594.7641733849599, 666.857990504237, 663.7849122069824, 582.5934058514791, 609.2482627949867, 651.4925990179643, 404.373845833122, 642.2733641262005, 401.4223131914049, 388.913436757461, 385.9619041157439, 381.98099567609427, 379.02946303437716, 376.07793039266005, 391.08620946059193, 384.2753140347627, 417.9469415636861, 416.92509031402506]}, {\"marker\": {\"size\": 5}, \"mode\": \"markers\", \"name\": \"MOEA/D\", \"type\": \"scatter3d\", \"x\": [229, 234, 250, 250, 252, 259, 267, 273, 277, 277, 282, 283, 284, 288, 292, 297, 297, 299, 301, 311, 311, 312, 322, 327, 328, 329, 332, 335, 345, 349, 350, 354, 358, 358, 360, 360, 362, 363, 364, 369, 371, 383, 385, 388, 396, 399, 401, 410, 413, 415, 416, 438, 441, 454, 459, 559, 569, 667, 688], \"y\": [3695, 3615, 3765, 3515, 3250, 3470, 3750, 3220, 3210, 4050, 2725, 1940, 3590, 2130, 2595, 1640, 3445, 2505, 3095, 1545, 2255, 2060, 1510, 3610, 2205, 2010, 1485, 1865, 1470, 2495, 1520, 1815, 2925, 1215, 1440, 2180, 1420, 2005, 1390, 3880, 1765, 1365, 1520, 3090, 1365, 1510, 1325, 4035, 1315, 1685, 1490, 1990, 1550, 1190, 1155, 1110, 1280, 8795, 1085], \"z\": [1375.5169234989648, 1575.959579706738, 583.8357747674006, 1558.4296945852661, 1853.3311627869066, 1490.9296945852661, 574.6165398756369, 1808.3311627869066, 1605.3586214576617, 565.4543155375063, 686.5653572698347, 705.5545447774164, 575.9840245740326, 655.1773600142408, 606.6653215412165, 702.9866526201891, 530.8526908112425, 651.0559024011759, 594.3274767681717, 644.5981649723527, 617.6356816158659, 612.154263852677, 769.7130730835433, 520.8281679147435, 586.9048986433204, 581.4234808801315, 754.3476815972706, 630.1330790802036, 745.1284467055069, 580.394105082199, 629.2327734860801, 611.132412603016, 522.1006350237509, 746.7580262328552, 726.6899769219797, 580.337094528566, 714.3976637329614, 566.6202860875192, 695.9591939494342, 481.4973572977278, 580.4016296304704, 680.5938024631615, 629.23277348608, 512.076112127252, 680.5938024631614, 655.3444372538049, 667.7392925804828, 471.1917360543987, 649.8630194906159, 616.2757214657416, 610.7943037025527, 557.4010511957555, 606.6158355358552, 731.3926347465824, 709.8810866658007, 682.2233819905097, 628.3514714098341, 440.77291821056525, 666.8579905042369]}, {\"marker\": {\"size\": 5}, \"mode\": \"markers\", \"name\": \"IBEA\", \"type\": \"scatter3d\", \"x\": [251, 258, 277, 292, 293, 296, 299, 299, 310, 315, 317, 319, 323, 323, 326, 329, 332, 334, 340, 342, 349, 352, 353, 359, 373, 391, 393, 396, 398, 400, 411, 424, 445, 448, 449, 461, 476, 499, 500, 504, 538, 562, 563, 594], \"y\": [3050, 1905, 1880, 1660, 1815, 1630, 1490, 3373, 1700, 1605, 1685, 1475, 3165, 1510, 1275, 1830, 1405, 1375, 1460, 1380, 1355, 1330, 1190, 1330, 1150, 3535, 4890, 4710, 2095, 1315, 1290, 1135, 1275, 8107, 4980, 1110, 1265, 6422, 1250, 1265, 6770, 1100, 1075, 1065], \"z\": [1375.5169234989648, 1575.959579706738, 583.8357747674006, 1558.4296945852661, 1853.3311627869066, 1490.9296945852661, 574.6165398756369, 1808.3311627869066, 1605.3586214576617, 565.4543155375063, 686.5653572698347, 705.5545447774164, 575.9840245740326, 655.1773600142408, 606.6653215412165, 702.9866526201891, 530.8526908112425, 651.0559024011759, 594.3274767681717, 644.5981649723527, 617.6356816158659, 612.154263852677, 769.7130730835433, 520.8281679147435, 586.9048986433204, 581.4234808801315, 754.3476815972706, 630.1330790802036, 745.1284467055069, 580.394105082199, 629.2327734860801, 611.132412603016, 522.1006350237509, 746.7580262328552, 726.6899769219797, 580.337094528566, 714.3976637329614, 566.6202860875192, 695.9591939494342, 481.4973572977278, 580.4016296304704, 680.5938024631615, 629.23277348608, 512.076112127252, 680.5938024631614, 655.3444372538049, 667.7392925804828, 471.1917360543987, 649.8630194906159, 616.2757214657416, 610.7943037025527, 557.4010511957555, 606.6158355358552, 731.3926347465824, 709.8810866658007, 682.2233819905097, 628.3514714098341, 440.77291821056525, 666.8579905042369]}],\n",
       "                        {\"scene\": {\"xaxis\": {\"title\": {\"text\": \"cost(x)\"}}, \"yaxis\": {\"title\": {\"text\": \"time(y)\"}}, \"zaxis\": {\"title\": {\"text\": \"emission(z)\"}}}, \"template\": {\"data\": {\"bar\": [{\"error_x\": {\"color\": \"#2a3f5f\"}, \"error_y\": {\"color\": \"#2a3f5f\"}, \"marker\": {\"line\": {\"color\": \"#E5ECF6\", \"width\": 0.5}}, \"type\": \"bar\"}], \"barpolar\": [{\"marker\": {\"line\": {\"color\": \"#E5ECF6\", \"width\": 0.5}}, \"type\": \"barpolar\"}], \"carpet\": [{\"aaxis\": {\"endlinecolor\": \"#2a3f5f\", \"gridcolor\": \"white\", \"linecolor\": \"white\", \"minorgridcolor\": \"white\", \"startlinecolor\": \"#2a3f5f\"}, \"baxis\": {\"endlinecolor\": \"#2a3f5f\", \"gridcolor\": \"white\", \"linecolor\": \"white\", \"minorgridcolor\": \"white\", \"startlinecolor\": \"#2a3f5f\"}, \"type\": \"carpet\"}], \"choropleth\": [{\"colorbar\": {\"outlinewidth\": 0, \"ticks\": \"\"}, \"type\": \"choropleth\"}], \"contour\": [{\"colorbar\": {\"outlinewidth\": 0, \"ticks\": \"\"}, \"colorscale\": [[0.0, \"#0d0887\"], [0.1111111111111111, \"#46039f\"], [0.2222222222222222, \"#7201a8\"], [0.3333333333333333, \"#9c179e\"], [0.4444444444444444, \"#bd3786\"], [0.5555555555555556, \"#d8576b\"], [0.6666666666666666, \"#ed7953\"], [0.7777777777777778, \"#fb9f3a\"], [0.8888888888888888, \"#fdca26\"], [1.0, \"#f0f921\"]], \"type\": \"contour\"}], \"contourcarpet\": [{\"colorbar\": {\"outlinewidth\": 0, \"ticks\": \"\"}, \"type\": \"contourcarpet\"}], \"heatmap\": [{\"colorbar\": {\"outlinewidth\": 0, \"ticks\": \"\"}, \"colorscale\": [[0.0, \"#0d0887\"], [0.1111111111111111, \"#46039f\"], [0.2222222222222222, \"#7201a8\"], [0.3333333333333333, \"#9c179e\"], [0.4444444444444444, \"#bd3786\"], [0.5555555555555556, \"#d8576b\"], [0.6666666666666666, \"#ed7953\"], [0.7777777777777778, \"#fb9f3a\"], [0.8888888888888888, \"#fdca26\"], [1.0, \"#f0f921\"]], \"type\": \"heatmap\"}], \"heatmapgl\": [{\"colorbar\": {\"outlinewidth\": 0, \"ticks\": \"\"}, \"colorscale\": [[0.0, \"#0d0887\"], [0.1111111111111111, \"#46039f\"], [0.2222222222222222, \"#7201a8\"], [0.3333333333333333, \"#9c179e\"], [0.4444444444444444, \"#bd3786\"], [0.5555555555555556, \"#d8576b\"], [0.6666666666666666, \"#ed7953\"], [0.7777777777777778, \"#fb9f3a\"], [0.8888888888888888, \"#fdca26\"], [1.0, \"#f0f921\"]], \"type\": \"heatmapgl\"}], \"histogram\": [{\"marker\": {\"colorbar\": {\"outlinewidth\": 0, \"ticks\": \"\"}}, \"type\": \"histogram\"}], \"histogram2d\": [{\"colorbar\": {\"outlinewidth\": 0, \"ticks\": \"\"}, \"colorscale\": [[0.0, \"#0d0887\"], [0.1111111111111111, \"#46039f\"], [0.2222222222222222, \"#7201a8\"], [0.3333333333333333, \"#9c179e\"], [0.4444444444444444, \"#bd3786\"], [0.5555555555555556, \"#d8576b\"], [0.6666666666666666, \"#ed7953\"], [0.7777777777777778, \"#fb9f3a\"], [0.8888888888888888, \"#fdca26\"], [1.0, \"#f0f921\"]], \"type\": \"histogram2d\"}], \"histogram2dcontour\": [{\"colorbar\": {\"outlinewidth\": 0, \"ticks\": \"\"}, \"colorscale\": [[0.0, \"#0d0887\"], [0.1111111111111111, \"#46039f\"], [0.2222222222222222, \"#7201a8\"], [0.3333333333333333, \"#9c179e\"], [0.4444444444444444, \"#bd3786\"], [0.5555555555555556, \"#d8576b\"], [0.6666666666666666, \"#ed7953\"], [0.7777777777777778, \"#fb9f3a\"], [0.8888888888888888, \"#fdca26\"], [1.0, \"#f0f921\"]], \"type\": \"histogram2dcontour\"}], \"mesh3d\": [{\"colorbar\": {\"outlinewidth\": 0, \"ticks\": \"\"}, \"type\": \"mesh3d\"}], \"parcoords\": [{\"line\": {\"colorbar\": {\"outlinewidth\": 0, \"ticks\": \"\"}}, \"type\": \"parcoords\"}], \"pie\": [{\"automargin\": true, \"type\": \"pie\"}], \"scatter\": [{\"marker\": {\"colorbar\": {\"outlinewidth\": 0, \"ticks\": \"\"}}, \"type\": \"scatter\"}], \"scatter3d\": [{\"line\": {\"colorbar\": {\"outlinewidth\": 0, \"ticks\": \"\"}}, \"marker\": {\"colorbar\": {\"outlinewidth\": 0, \"ticks\": \"\"}}, \"type\": \"scatter3d\"}], \"scattercarpet\": [{\"marker\": {\"colorbar\": {\"outlinewidth\": 0, \"ticks\": \"\"}}, \"type\": \"scattercarpet\"}], \"scattergeo\": [{\"marker\": {\"colorbar\": {\"outlinewidth\": 0, \"ticks\": \"\"}}, \"type\": \"scattergeo\"}], \"scattergl\": [{\"marker\": {\"colorbar\": {\"outlinewidth\": 0, \"ticks\": \"\"}}, \"type\": \"scattergl\"}], \"scattermapbox\": [{\"marker\": {\"colorbar\": {\"outlinewidth\": 0, \"ticks\": \"\"}}, \"type\": \"scattermapbox\"}], \"scatterpolar\": [{\"marker\": {\"colorbar\": {\"outlinewidth\": 0, \"ticks\": \"\"}}, \"type\": \"scatterpolar\"}], \"scatterpolargl\": [{\"marker\": {\"colorbar\": {\"outlinewidth\": 0, \"ticks\": \"\"}}, \"type\": \"scatterpolargl\"}], \"scatterternary\": [{\"marker\": {\"colorbar\": {\"outlinewidth\": 0, \"ticks\": \"\"}}, \"type\": \"scatterternary\"}], \"surface\": [{\"colorbar\": {\"outlinewidth\": 0, \"ticks\": \"\"}, \"colorscale\": [[0.0, \"#0d0887\"], [0.1111111111111111, \"#46039f\"], [0.2222222222222222, \"#7201a8\"], [0.3333333333333333, \"#9c179e\"], [0.4444444444444444, \"#bd3786\"], [0.5555555555555556, \"#d8576b\"], [0.6666666666666666, \"#ed7953\"], [0.7777777777777778, \"#fb9f3a\"], [0.8888888888888888, \"#fdca26\"], [1.0, \"#f0f921\"]], \"type\": \"surface\"}], \"table\": [{\"cells\": {\"fill\": {\"color\": \"#EBF0F8\"}, \"line\": {\"color\": \"white\"}}, \"header\": {\"fill\": {\"color\": \"#C8D4E3\"}, \"line\": {\"color\": \"white\"}}, \"type\": \"table\"}]}, \"layout\": {\"annotationdefaults\": {\"arrowcolor\": \"#2a3f5f\", \"arrowhead\": 0, \"arrowwidth\": 1}, \"coloraxis\": {\"colorbar\": {\"outlinewidth\": 0, \"ticks\": \"\"}}, \"colorscale\": {\"diverging\": [[0, \"#8e0152\"], [0.1, \"#c51b7d\"], [0.2, \"#de77ae\"], [0.3, \"#f1b6da\"], [0.4, \"#fde0ef\"], [0.5, \"#f7f7f7\"], [0.6, \"#e6f5d0\"], [0.7, \"#b8e186\"], [0.8, \"#7fbc41\"], [0.9, \"#4d9221\"], [1, \"#276419\"]], \"sequential\": [[0.0, \"#0d0887\"], [0.1111111111111111, \"#46039f\"], [0.2222222222222222, \"#7201a8\"], [0.3333333333333333, \"#9c179e\"], [0.4444444444444444, \"#bd3786\"], [0.5555555555555556, \"#d8576b\"], [0.6666666666666666, \"#ed7953\"], [0.7777777777777778, \"#fb9f3a\"], [0.8888888888888888, \"#fdca26\"], [1.0, \"#f0f921\"]], \"sequentialminus\": [[0.0, \"#0d0887\"], [0.1111111111111111, \"#46039f\"], [0.2222222222222222, \"#7201a8\"], [0.3333333333333333, \"#9c179e\"], [0.4444444444444444, \"#bd3786\"], [0.5555555555555556, \"#d8576b\"], [0.6666666666666666, \"#ed7953\"], [0.7777777777777778, \"#fb9f3a\"], [0.8888888888888888, \"#fdca26\"], [1.0, \"#f0f921\"]]}, \"colorway\": [\"#636efa\", \"#EF553B\", \"#00cc96\", \"#ab63fa\", \"#FFA15A\", \"#19d3f3\", \"#FF6692\", \"#B6E880\", \"#FF97FF\", \"#FECB52\"], \"font\": {\"color\": \"#2a3f5f\"}, \"geo\": {\"bgcolor\": \"white\", \"lakecolor\": \"white\", \"landcolor\": \"#E5ECF6\", \"showlakes\": true, \"showland\": true, \"subunitcolor\": \"white\"}, \"hoverlabel\": {\"align\": \"left\"}, \"hovermode\": \"closest\", \"mapbox\": {\"style\": \"light\"}, \"paper_bgcolor\": \"white\", \"plot_bgcolor\": \"#E5ECF6\", \"polar\": {\"angularaxis\": {\"gridcolor\": \"white\", \"linecolor\": \"white\", \"ticks\": \"\"}, \"bgcolor\": \"#E5ECF6\", \"radialaxis\": {\"gridcolor\": \"white\", \"linecolor\": \"white\", \"ticks\": \"\"}}, \"scene\": {\"xaxis\": {\"backgroundcolor\": \"#E5ECF6\", \"gridcolor\": \"white\", \"gridwidth\": 2, \"linecolor\": \"white\", \"showbackground\": true, \"ticks\": \"\", \"zerolinecolor\": \"white\"}, \"yaxis\": {\"backgroundcolor\": \"#E5ECF6\", \"gridcolor\": \"white\", \"gridwidth\": 2, \"linecolor\": \"white\", \"showbackground\": true, \"ticks\": \"\", \"zerolinecolor\": \"white\"}, \"zaxis\": {\"backgroundcolor\": \"#E5ECF6\", \"gridcolor\": \"white\", \"gridwidth\": 2, \"linecolor\": \"white\", \"showbackground\": true, \"ticks\": \"\", \"zerolinecolor\": \"white\"}}, \"shapedefaults\": {\"line\": {\"color\": \"#2a3f5f\"}}, \"ternary\": {\"aaxis\": {\"gridcolor\": \"white\", \"linecolor\": \"white\", \"ticks\": \"\"}, \"baxis\": {\"gridcolor\": \"white\", \"linecolor\": \"white\", \"ticks\": \"\"}, \"bgcolor\": \"#E5ECF6\", \"caxis\": {\"gridcolor\": \"white\", \"linecolor\": \"white\", \"ticks\": \"\"}}, \"title\": {\"x\": 0.05}, \"xaxis\": {\"automargin\": true, \"gridcolor\": \"white\", \"linecolor\": \"white\", \"ticks\": \"\", \"title\": {\"standoff\": 15}, \"zerolinecolor\": \"white\", \"zerolinewidth\": 2}, \"yaxis\": {\"automargin\": true, \"gridcolor\": \"white\", \"linecolor\": \"white\", \"ticks\": \"\", \"title\": {\"standoff\": 15}, \"zerolinecolor\": \"white\", \"zerolinewidth\": 2}}}},\n",
       "                        {\"responsive\": true}\n",
       "                    ).then(function(){\n",
       "                            \n",
       "var gd = document.getElementById('5e82436d-753f-4878-9b2b-ec1725c7dd45');\n",
       "var x = new MutationObserver(function (mutations, observer) {{\n",
       "        var display = window.getComputedStyle(gd).display;\n",
       "        if (!display || display === 'none') {{\n",
       "            console.log([gd, 'removed!']);\n",
       "            Plotly.purge(gd);\n",
       "            observer.disconnect();\n",
       "        }}\n",
       "}});\n",
       "\n",
       "// Listen for the removal of the full notebook cells\n",
       "var notebookContainer = gd.closest('#notebook-container');\n",
       "if (notebookContainer) {{\n",
       "    x.observe(notebookContainer, {childList: true});\n",
       "}}\n",
       "\n",
       "// Listen for the clearing of the current output cell\n",
       "var outputEl = gd.closest('.output');\n",
       "if (outputEl) {{\n",
       "    x.observe(outputEl, {childList: true});\n",
       "}}\n",
       "\n",
       "                        })\n",
       "                };\n",
       "                });\n",
       "            </script>\n",
       "        </div>"
      ]
     },
     "metadata": {},
     "output_type": "display_data"
    }
   ],
   "source": [
    "# Plot all unique nondominated solution of each algorithm in a 3D plot\n",
    "\n",
    "fig = go.Figure(layout = dict(scene = dict(xaxis_title = 'cost(x)',\n",
    "                                         yaxis_title = 'time(y)',\n",
    "                                         zaxis_title = 'emission(z)')))\n",
    "\n",
    "# NSGAII Pareto front\n",
    "fig.add_scatter3d(x = df_result_NSGAII['cost'], \n",
    "                  y = df_result_NSGAII['time'],\n",
    "                  z = df_result_NSGAII['carbon'],\n",
    "                  name = 'NSGA-II',\n",
    "                  mode='markers',\n",
    "                  marker=dict(size=5))\n",
    " \n",
    "# MOEAD Pareto front\n",
    "fig.add_scatter3d(x = df_result_MOEAD['cost'], \n",
    "                  y = df_result_MOEAD['time'],\n",
    "                  z = df_result_MOEAD['carbon'],\n",
    "                  name = 'MOEA/D',\n",
    "                  mode='markers',\n",
    "                 marker=dict(size=5))\n",
    "\n",
    "# IBEA Pareto front\n",
    "fig.add_scatter3d(x = df_result_IBEA['cost'], \n",
    "                  y = df_result_IBEA['time'],\n",
    "                  z = df_result_MOEAD['carbon'],\n",
    "                  name = 'IBEA',\n",
    "                  mode='markers',\n",
    "                 marker=dict(size=5))\n",
    "fig.show()"
   ]
  },
  {
   "cell_type": "markdown",
   "metadata": {
    "colab_type": "text",
    "id": "I99nbyjTY9Ar"
   },
   "source": [
    "## 3.5 Plot the routes on a world map"
   ]
  },
  {
   "cell_type": "code",
   "execution_count": 8,
   "metadata": {
    "scrolled": true
   },
   "outputs": [
    {
     "data": {
      "text/html": [
       "<div>\n",
       "<style scoped>\n",
       "    .dataframe tbody tr th:only-of-type {\n",
       "        vertical-align: middle;\n",
       "    }\n",
       "\n",
       "    .dataframe tbody tr th {\n",
       "        vertical-align: top;\n",
       "    }\n",
       "\n",
       "    .dataframe thead th {\n",
       "        text-align: right;\n",
       "    }\n",
       "</style>\n",
       "<table border=\"1\" class=\"dataframe\">\n",
       "  <thead>\n",
       "    <tr style=\"text-align: right;\">\n",
       "      <th></th>\n",
       "      <th>cost</th>\n",
       "      <th>time</th>\n",
       "      <th>carbon</th>\n",
       "      <th>route</th>\n",
       "      <th>borf</th>\n",
       "      <th>sum</th>\n",
       "    </tr>\n",
       "  </thead>\n",
       "  <tbody>\n",
       "    <tr>\n",
       "      <th>26</th>\n",
       "      <td>380</td>\n",
       "      <td>1175</td>\n",
       "      <td>722.17</td>\n",
       "      <td>[0, 3, 11, 10, 9, 4, 6, 7, 5, 8, 2, 1, 0]</td>\n",
       "      <td>[F, F, F, F, F, F, F, F, F, F, F, F]</td>\n",
       "      <td>2277.17</td>\n",
       "    </tr>\n",
       "    <tr>\n",
       "      <th>51</th>\n",
       "      <td>457</td>\n",
       "      <td>1255</td>\n",
       "      <td>612.99</td>\n",
       "      <td>[0, 2, 1, 8, 3, 11, 10, 9, 6, 4, 7, 5, 0]</td>\n",
       "      <td>[F, F, B, F, F, F, F, F, F, F, F, F]</td>\n",
       "      <td>2324.99</td>\n",
       "    </tr>\n",
       "    <tr>\n",
       "      <th>29</th>\n",
       "      <td>352</td>\n",
       "      <td>1330</td>\n",
       "      <td>670.81</td>\n",
       "      <td>[0, 1, 5, 7, 6, 4, 9, 10, 11, 3, 8, 2, 0]</td>\n",
       "      <td>[F, F, F, F, F, F, F, F, F, F, F, B]</td>\n",
       "      <td>2352.81</td>\n",
       "    </tr>\n",
       "    <tr>\n",
       "      <th>54</th>\n",
       "      <td>510</td>\n",
       "      <td>1260</td>\n",
       "      <td>616.06</td>\n",
       "      <td>[0, 5, 7, 4, 6, 9, 10, 11, 1, 8, 3, 2, 0]</td>\n",
       "      <td>[F, F, F, F, F, F, F, F, B, F, F, F]</td>\n",
       "      <td>2386.06</td>\n",
       "    </tr>\n",
       "    <tr>\n",
       "      <th>41</th>\n",
       "      <td>350</td>\n",
       "      <td>1360</td>\n",
       "      <td>677.52</td>\n",
       "      <td>[0, 3, 8, 1, 2, 10, 11, 9, 4, 6, 7, 5, 0]</td>\n",
       "      <td>[F, F, B, F, F, F, F, F, F, F, F, F]</td>\n",
       "      <td>2387.52</td>\n",
       "    </tr>\n",
       "  </tbody>\n",
       "</table>\n",
       "</div>"
      ],
      "text/plain": [
       "   cost  time  carbon                                      route  \\\n",
       "26  380  1175  722.17  [0, 3, 11, 10, 9, 4, 6, 7, 5, 8, 2, 1, 0]   \n",
       "51  457  1255  612.99  [0, 2, 1, 8, 3, 11, 10, 9, 6, 4, 7, 5, 0]   \n",
       "29  352  1330  670.81  [0, 1, 5, 7, 6, 4, 9, 10, 11, 3, 8, 2, 0]   \n",
       "54  510  1260  616.06  [0, 5, 7, 4, 6, 9, 10, 11, 1, 8, 3, 2, 0]   \n",
       "41  350  1360  677.52  [0, 3, 8, 1, 2, 10, 11, 9, 4, 6, 7, 5, 0]   \n",
       "\n",
       "                                    borf      sum  \n",
       "26  [F, F, F, F, F, F, F, F, F, F, F, F]  2277.17  \n",
       "51  [F, F, B, F, F, F, F, F, F, F, F, F]  2324.99  \n",
       "29  [F, F, F, F, F, F, F, F, F, F, F, B]  2352.81  \n",
       "54  [F, F, F, F, F, F, F, F, B, F, F, F]  2386.06  \n",
       "41  [F, F, B, F, F, F, F, F, F, F, F, F]  2387.52  "
      ]
     },
     "execution_count": 8,
     "metadata": {},
     "output_type": "execute_result"
    }
   ],
   "source": [
    "# Combine cost, time, and emission in a sum-column\n",
    "# Find the route with minimum sum\n",
    "df_result['sum'] = df_result['cost'] + df_result['time'] + df_result['carbon']\n",
    "df_result.sort_values('sum').head()"
   ]
  },
  {
   "cell_type": "code",
   "execution_count": 9,
   "metadata": {},
   "outputs": [],
   "source": [
    "# Obtain cheapest, fastest, greenest, best route\n",
    "best_route = df_result.sort_values('sum').iloc[0,3]\n",
    "best_borf = df_result.sort_values('sum').iloc[0,4]\n",
    "\n",
    "cheap_route = df_result.sort_values('cost').iloc[0,3]\n",
    "cheap_borf = df_result.sort_values('cost').iloc[0,4]\n",
    "\n",
    "fast_route = df_result.sort_values('time').iloc[0,3]\n",
    "fast_borf = df_result.sort_values('time').iloc[0,4]\n",
    "\n",
    "green_route = df_result.sort_values('carbon').iloc[0,3]\n",
    "green_borf = df_result.sort_values('carbon').iloc[0,4]\n",
    "\n",
    "# Change current_route to plot cheapest, fastest, or best route\n",
    "current_route = best_route\n",
    "current_borf = best_borf"
   ]
  },
  {
   "cell_type": "code",
   "execution_count": 10,
   "metadata": {},
   "outputs": [],
   "source": [
    "best_route1 = [0,7,2,1,8,11,10,9,4,6,3,5,0]\n",
    "best_borf1 = [1,1,0,1,1,0,0,0,0,0,0,0]\n",
    "\n",
    "best_route2 = [0,2,1,5,7,4,6,9,10,11,8,3,0]\n",
    "best_borf2 = [1,0,0,0,0,0,0,0,0,0,0,0]\n",
    "\n",
    "best_route3 = best_route\n",
    "best_borf3 = [0,0,0,0,0,0,0,0,0,0,0,0]\n",
    "\n",
    "green_route3 = green_route\n",
    "green_borf3 = [1,0,1,0,0,1,1,1,1,1,1,1]\n",
    "\n",
    "best_fit1 = fitness(best_route1,best_borf1)\n",
    "best_fit2 = fitness(best_route2,best_borf2)\n",
    "best_fit3 = fitness(best_route3,best_borf3)"
   ]
  },
  {
   "cell_type": "code",
   "execution_count": 11,
   "metadata": {},
   "outputs": [
    {
     "data": {
      "image/png": "[encoded data removed]",
      "text/plain": [
       "<Figure size 1080x360 with 3 Axes>"
      ]
     },
     "metadata": {
      "needs_background": "light"
     },
     "output_type": "display_data"
    }
   ],
   "source": [
    "# Histograms of the [seeds] time values for each sample size\n",
    "\n",
    "BIGGER_SIZE = 18\n",
    "plt.rc('axes',  labelsize=BIGGER_SIZE)   # fontsize of the x and y labels\n",
    "plt.rc('xtick', labelsize=BIGGER_SIZE)    # fontsize of the tick labels\n",
    "plt.rc('ytick', labelsize=BIGGER_SIZE)    # fontsize of the tick labels\n",
    "plt.rc('axes',  titlesize=BIGGER_SIZE)\n",
    "\n",
    "fig, axs = plt.subplots(1,3,figsize=(15,5), sharey=False)\n",
    "\n",
    "axs[0].bar(height=[best_fit1[0],best_fit2[0],best_fit3[0]], \n",
    "           x=['Single','Two','Three'])\n",
    "\n",
    "axs[1].bar(height=[best_fit1[1],best_fit2[1],best_fit3[1]], \n",
    "           x=['Single','Two','Three'])\n",
    "\n",
    "axs[2].bar(height=[best_fit1[2],best_fit2[2],best_fit3[2]], \n",
    "           x=['Single','Two','Three'])\n",
    "\n",
    "axs[0].set_title('Cost [EUR]')\n",
    "axs[1].set_title('Time [min]')\n",
    "axs[2].set_title('Emission [kg CO2]')\n",
    "    \n",
    "fig.suptitle('Comparison of the best route of each case', fontsize=BIGGER_SIZE)\n",
    "\n",
    "plt.show()"
   ]
  },
  {
   "cell_type": "code",
   "execution_count": 12,
   "metadata": {},
   "outputs": [
    {
     "data": {
      "text/html": [
       "<div>\n",
       "<style scoped>\n",
       "    .dataframe tbody tr th:only-of-type {\n",
       "        vertical-align: middle;\n",
       "    }\n",
       "\n",
       "    .dataframe tbody tr th {\n",
       "        vertical-align: top;\n",
       "    }\n",
       "\n",
       "    .dataframe thead th {\n",
       "        text-align: right;\n",
       "    }\n",
       "</style>\n",
       "<table border=\"1\" class=\"dataframe\">\n",
       "  <thead>\n",
       "    <tr style=\"text-align: right;\">\n",
       "      <th></th>\n",
       "      <th>city</th>\n",
       "      <th>lon</th>\n",
       "      <th>lat</th>\n",
       "    </tr>\n",
       "  </thead>\n",
       "  <tbody>\n",
       "    <tr>\n",
       "      <th>0</th>\n",
       "      <td>Amsterdam</td>\n",
       "      <td>4.897976</td>\n",
       "      <td>52.374540</td>\n",
       "    </tr>\n",
       "    <tr>\n",
       "      <th>1</th>\n",
       "      <td>Copenhagen</td>\n",
       "      <td>12.570072</td>\n",
       "      <td>55.686724</td>\n",
       "    </tr>\n",
       "    <tr>\n",
       "      <th>2</th>\n",
       "      <td>Warsaw</td>\n",
       "      <td>21.006725</td>\n",
       "      <td>52.231958</td>\n",
       "    </tr>\n",
       "    <tr>\n",
       "      <th>3</th>\n",
       "      <td>Vienna</td>\n",
       "      <td>16.372504</td>\n",
       "      <td>48.208354</td>\n",
       "    </tr>\n",
       "    <tr>\n",
       "      <th>4</th>\n",
       "      <td>Rome</td>\n",
       "      <td>12.482932</td>\n",
       "      <td>41.893320</td>\n",
       "    </tr>\n",
       "  </tbody>\n",
       "</table>\n",
       "</div>"
      ],
      "text/plain": [
       "         city        lon        lat\n",
       "0   Amsterdam   4.897976  52.374540\n",
       "1  Copenhagen  12.570072  55.686724\n",
       "2      Warsaw  21.006725  52.231958\n",
       "3      Vienna  16.372504  48.208354\n",
       "4        Rome  12.482932  41.893320"
      ]
     },
     "execution_count": 12,
     "metadata": {},
     "output_type": "execute_result"
    }
   ],
   "source": [
    "# Query longitude and latitude of the cities\n",
    "route_str = []\n",
    "for i in range(len(current_route)):\n",
    "    route_str.append(city_names[current_route[i]])\n",
    "\n",
    "geolocator = Nominatim(user_agent=\"myapp\")\n",
    "lat_list = []\n",
    "lon_list = []\n",
    "for i in range(len(route_str)):\n",
    "    location = geolocator.geocode(route_str[i])\n",
    "    lat_list.append(location.latitude)\n",
    "    lon_list.append(location.longitude)\n",
    "    \n",
    "df_coord = pd.DataFrame(columns=['city','lon','lat'])\n",
    "df_coord['city'] = route_str\n",
    "df_coord['lon']  = lon_list\n",
    "df_coord['lat']  = lat_list\n",
    "df_coord.head()"
   ]
  },
  {
   "cell_type": "code",
   "execution_count": 13,
   "metadata": {
    "scrolled": false
   },
   "outputs": [
    {
     "data": {
      "application/vnd.plotly.v1+json": {
       "config": {
        "plotlyServerURL": "https://plot.ly"
       },
       "data": [
        {
         "lat": [
          52.37454030000001,
          55.6867243
         ],
         "line": {
          "color": "red",
          "width": 3
         },
         "lon": [
          4.897975505617977,
          12.5700724
         ],
         "mode": "markers+lines",
         "name": "Flight: Amsterdam-Copenhagen",
         "text": "Amsterdam",
         "type": "scattergeo"
        },
        {
         "lat": [
          55.6867243,
          52.2319581
         ],
         "line": {
          "color": "red",
          "width": 3
         },
         "lon": [
          12.5700724,
          21.0067249
         ],
         "mode": "markers+lines",
         "name": "Flight: Copenhagen-Warsaw",
         "text": "Copenhagen",
         "type": "scattergeo"
        },
        {
         "lat": [
          52.2319581,
          48.2083537
         ],
         "line": {
          "color": "red",
          "width": 3
         },
         "lon": [
          21.0067249,
          16.3725042
         ],
         "mode": "markers+lines",
         "name": "Flight: Warsaw-Vienna",
         "text": "Warsaw",
         "type": "scattergeo"
        },
        {
         "lat": [
          48.2083537,
          41.8933203
         ],
         "line": {
          "color": "red",
          "width": 3
         },
         "lon": [
          16.3725042,
          12.4829321
         ],
         "mode": "markers+lines",
         "name": "Flight: Vienna-Rome",
         "text": "Vienna",
         "type": "scattergeo"
        },
        {
         "lat": [
          41.8933203,
          38.7077507
         ],
         "line": {
          "color": "red",
          "width": 3
         },
         "lon": [
          12.4829321,
          -9.1365919
         ],
         "mode": "markers+lines",
         "name": "Flight: Rome-Lisbon",
         "text": "Rome",
         "type": "scattergeo"
        },
        {
         "lat": [
          38.7077507,
          40.4167047
         ],
         "line": {
          "color": "red",
          "width": 3
         },
         "lon": [
          -9.1365919,
          -3.7035825
         ],
         "mode": "markers+lines",
         "name": "Flight: Lisbon-Madrid",
         "text": "Lisbon",
         "type": "scattergeo"
        },
        {
         "lat": [
          40.4167047,
          48.8566969
         ],
         "line": {
          "color": "red",
          "width": 3
         },
         "lon": [
          -3.7035825,
          2.3514616
         ],
         "mode": "markers+lines",
         "name": "Flight: Madrid-Paris",
         "text": "Madrid",
         "type": "scattergeo"
        },
        {
         "lat": [
          48.8566969,
          51.5073219
         ],
         "line": {
          "color": "red",
          "width": 3
         },
         "lon": [
          2.3514616,
          -0.1276474
         ],
         "mode": "markers+lines",
         "name": "Flight: Paris-London",
         "text": "Paris",
         "type": "scattergeo"
        },
        {
         "lat": [
          51.5073219,
          50.0874654
         ],
         "line": {
          "color": "red",
          "width": 3
         },
         "lon": [
          -0.1276474,
          14.4212535
         ],
         "mode": "markers+lines",
         "name": "Flight: London-Prague",
         "text": "London",
         "type": "scattergeo"
        },
        {
         "lat": [
          50.0874654,
          50.8465573
         ],
         "line": {
          "color": "red",
          "width": 3
         },
         "lon": [
          14.4212535,
          4.351697
         ],
         "mode": "markers+lines",
         "name": "Flight: Prague-Brussels",
         "text": "Prague",
         "type": "scattergeo"
        },
        {
         "lat": [
          50.8465573,
          52.5170365
         ],
         "line": {
          "color": "red",
          "width": 3
         },
         "lon": [
          4.351697,
          13.3888599
         ],
         "mode": "markers+lines",
         "name": "Flight: Brussels-Berlin",
         "text": "Brussels",
         "type": "scattergeo"
        },
        {
         "lat": [
          52.5170365,
          52.37454030000001
         ],
         "line": {
          "color": "red",
          "width": 3
         },
         "lon": [
          13.3888599,
          4.897975505617977
         ],
         "mode": "markers+lines",
         "name": "Flight: Berlin-Amsterdam",
         "text": "Berlin",
         "type": "scattergeo"
        },
        {
         "lat": [
          52.37454030000001,
          55.6867243,
          52.2319581,
          48.2083537,
          41.8933203,
          38.7077507,
          40.4167047,
          48.8566969,
          51.5073219,
          50.0874654,
          50.8465573,
          52.5170365,
          52.37454030000001
         ],
         "lon": [
          4.897975505617977,
          12.5700724,
          21.0067249,
          16.3725042,
          12.4829321,
          -9.1365919,
          -3.7035825,
          2.3514616,
          -0.1276474,
          14.4212535,
          4.351697,
          13.3888599,
          4.897975505617977
         ],
         "mode": "text",
         "showlegend": false,
         "text": [
          "Amsterdam",
          "Copenhagen",
          "Warsaw",
          "Vienna",
          "Rome",
          "Lisbon",
          "Madrid",
          "Paris",
          "London",
          "Prague",
          "Brussels",
          "Berlin",
          "Amsterdam"
         ],
         "type": "scattergeo"
        }
       ],
       "layout": {
        "geo": {
         "scope": "europe"
        },
        "template": {
         "data": {
          "bar": [
           {
            "error_x": {
             "color": "#2a3f5f"
            },
            "error_y": {
             "color": "#2a3f5f"
            },
            "marker": {
             "line": {
              "color": "#E5ECF6",
              "width": 0.5
             }
            },
            "type": "bar"
           }
          ],
          "barpolar": [
           {
            "marker": {
             "line": {
              "color": "#E5ECF6",
              "width": 0.5
             }
            },
            "type": "barpolar"
           }
          ],
          "carpet": [
           {
            "aaxis": {
             "endlinecolor": "#2a3f5f",
             "gridcolor": "white",
             "linecolor": "white",
             "minorgridcolor": "white",
             "startlinecolor": "#2a3f5f"
            },
            "baxis": {
             "endlinecolor": "#2a3f5f",
             "gridcolor": "white",
             "linecolor": "white",
             "minorgridcolor": "white",
             "startlinecolor": "#2a3f5f"
            },
            "type": "carpet"
           }
          ],
          "choropleth": [
           {
            "colorbar": {
             "outlinewidth": 0,
             "ticks": ""
            },
            "type": "choropleth"
           }
          ],
          "contour": [
           {
            "colorbar": {
             "outlinewidth": 0,
             "ticks": ""
            },
            "colorscale": [
             [
              0,
              "#0d0887"
             ],
             [
              0.1111111111111111,
              "#46039f"
             ],
             [
              0.2222222222222222,
              "#7201a8"
             ],
             [
              0.3333333333333333,
              "#9c179e"
             ],
             [
              0.4444444444444444,
              "#bd3786"
             ],
             [
              0.5555555555555556,
              "#d8576b"
             ],
             [
              0.6666666666666666,
              "#ed7953"
             ],
             [
              0.7777777777777778,
              "#fb9f3a"
             ],
             [
              0.8888888888888888,
              "#fdca26"
             ],
             [
              1,
              "#f0f921"
             ]
            ],
            "type": "contour"
           }
          ],
          "contourcarpet": [
           {
            "colorbar": {
             "outlinewidth": 0,
             "ticks": ""
            },
            "type": "contourcarpet"
           }
          ],
          "heatmap": [
           {
            "colorbar": {
             "outlinewidth": 0,
             "ticks": ""
            },
            "colorscale": [
             [
              0,
              "#0d0887"
             ],
             [
              0.1111111111111111,
              "#46039f"
             ],
             [
              0.2222222222222222,
              "#7201a8"
             ],
             [
              0.3333333333333333,
              "#9c179e"
             ],
             [
              0.4444444444444444,
              "#bd3786"
             ],
             [
              0.5555555555555556,
              "#d8576b"
             ],
             [
              0.6666666666666666,
              "#ed7953"
             ],
             [
              0.7777777777777778,
              "#fb9f3a"
             ],
             [
              0.8888888888888888,
              "#fdca26"
             ],
             [
              1,
              "#f0f921"
             ]
            ],
            "type": "heatmap"
           }
          ],
          "heatmapgl": [
           {
            "colorbar": {
             "outlinewidth": 0,
             "ticks": ""
            },
            "colorscale": [
             [
              0,
              "#0d0887"
             ],
             [
              0.1111111111111111,
              "#46039f"
             ],
             [
              0.2222222222222222,
              "#7201a8"
             ],
             [
              0.3333333333333333,
              "#9c179e"
             ],
             [
              0.4444444444444444,
              "#bd3786"
             ],
             [
              0.5555555555555556,
              "#d8576b"
             ],
             [
              0.6666666666666666,
              "#ed7953"
             ],
             [
              0.7777777777777778,
              "#fb9f3a"
             ],
             [
              0.8888888888888888,
              "#fdca26"
             ],
             [
              1,
              "#f0f921"
             ]
            ],
            "type": "heatmapgl"
           }
          ],
          "histogram": [
           {
            "marker": {
             "colorbar": {
              "outlinewidth": 0,
              "ticks": ""
             }
            },
            "type": "histogram"
           }
          ],
          "histogram2d": [
           {
            "colorbar": {
             "outlinewidth": 0,
             "ticks": ""
            },
            "colorscale": [
             [
              0,
              "#0d0887"
             ],
             [
              0.1111111111111111,
              "#46039f"
             ],
             [
              0.2222222222222222,
              "#7201a8"
             ],
             [
              0.3333333333333333,
              "#9c179e"
             ],
             [
              0.4444444444444444,
              "#bd3786"
             ],
             [
              0.5555555555555556,
              "#d8576b"
             ],
             [
              0.6666666666666666,
              "#ed7953"
             ],
             [
              0.7777777777777778,
              "#fb9f3a"
             ],
             [
              0.8888888888888888,
              "#fdca26"
             ],
             [
              1,
              "#f0f921"
             ]
            ],
            "type": "histogram2d"
           }
          ],
          "histogram2dcontour": [
           {
            "colorbar": {
             "outlinewidth": 0,
             "ticks": ""
            },
            "colorscale": [
             [
              0,
              "#0d0887"
             ],
             [
              0.1111111111111111,
              "#46039f"
             ],
             [
              0.2222222222222222,
              "#7201a8"
             ],
             [
              0.3333333333333333,
              "#9c179e"
             ],
             [
              0.4444444444444444,
              "#bd3786"
             ],
             [
              0.5555555555555556,
              "#d8576b"
             ],
             [
              0.6666666666666666,
              "#ed7953"
             ],
             [
              0.7777777777777778,
              "#fb9f3a"
             ],
             [
              0.8888888888888888,
              "#fdca26"
             ],
             [
              1,
              "#f0f921"
             ]
            ],
            "type": "histogram2dcontour"
           }
          ],
          "mesh3d": [
           {
            "colorbar": {
             "outlinewidth": 0,
             "ticks": ""
            },
            "type": "mesh3d"
           }
          ],
          "parcoords": [
           {
            "line": {
             "colorbar": {
              "outlinewidth": 0,
              "ticks": ""
             }
            },
            "type": "parcoords"
           }
          ],
          "pie": [
           {
            "automargin": true,
            "type": "pie"
           }
          ],
          "scatter": [
           {
            "marker": {
             "colorbar": {
              "outlinewidth": 0,
              "ticks": ""
             }
            },
            "type": "scatter"
           }
          ],
          "scatter3d": [
           {
            "line": {
             "colorbar": {
              "outlinewidth": 0,
              "ticks": ""
             }
            },
            "marker": {
             "colorbar": {
              "outlinewidth": 0,
              "ticks": ""
             }
            },
            "type": "scatter3d"
           }
          ],
          "scattercarpet": [
           {
            "marker": {
             "colorbar": {
              "outlinewidth": 0,
              "ticks": ""
             }
            },
            "type": "scattercarpet"
           }
          ],
          "scattergeo": [
           {
            "marker": {
             "colorbar": {
              "outlinewidth": 0,
              "ticks": ""
             }
            },
            "type": "scattergeo"
           }
          ],
          "scattergl": [
           {
            "marker": {
             "colorbar": {
              "outlinewidth": 0,
              "ticks": ""
             }
            },
            "type": "scattergl"
           }
          ],
          "scattermapbox": [
           {
            "marker": {
             "colorbar": {
              "outlinewidth": 0,
              "ticks": ""
             }
            },
            "type": "scattermapbox"
           }
          ],
          "scatterpolar": [
           {
            "marker": {
             "colorbar": {
              "outlinewidth": 0,
              "ticks": ""
             }
            },
            "type": "scatterpolar"
           }
          ],
          "scatterpolargl": [
           {
            "marker": {
             "colorbar": {
              "outlinewidth": 0,
              "ticks": ""
             }
            },
            "type": "scatterpolargl"
           }
          ],
          "scatterternary": [
           {
            "marker": {
             "colorbar": {
              "outlinewidth": 0,
              "ticks": ""
             }
            },
            "type": "scatterternary"
           }
          ],
          "surface": [
           {
            "colorbar": {
             "outlinewidth": 0,
             "ticks": ""
            },
            "colorscale": [
             [
              0,
              "#0d0887"
             ],
             [
              0.1111111111111111,
              "#46039f"
             ],
             [
              0.2222222222222222,
              "#7201a8"
             ],
             [
              0.3333333333333333,
              "#9c179e"
             ],
             [
              0.4444444444444444,
              "#bd3786"
             ],
             [
              0.5555555555555556,
              "#d8576b"
             ],
             [
              0.6666666666666666,
              "#ed7953"
             ],
             [
              0.7777777777777778,
              "#fb9f3a"
             ],
             [
              0.8888888888888888,
              "#fdca26"
             ],
             [
              1,
              "#f0f921"
             ]
            ],
            "type": "surface"
           }
          ],
          "table": [
           {
            "cells": {
             "fill": {
              "color": "#EBF0F8"
             },
             "line": {
              "color": "white"
             }
            },
            "header": {
             "fill": {
              "color": "#C8D4E3"
             },
             "line": {
              "color": "white"
             }
            },
            "type": "table"
           }
          ]
         },
         "layout": {
          "annotationdefaults": {
           "arrowcolor": "#2a3f5f",
           "arrowhead": 0,
           "arrowwidth": 1
          },
          "coloraxis": {
           "colorbar": {
            "outlinewidth": 0,
            "ticks": ""
           }
          },
          "colorscale": {
           "diverging": [
            [
             0,
             "#8e0152"
            ],
            [
             0.1,
             "#c51b7d"
            ],
            [
             0.2,
             "#de77ae"
            ],
            [
             0.3,
             "#f1b6da"
            ],
            [
             0.4,
             "#fde0ef"
            ],
            [
             0.5,
             "#f7f7f7"
            ],
            [
             0.6,
             "#e6f5d0"
            ],
            [
             0.7,
             "#b8e186"
            ],
            [
             0.8,
             "#7fbc41"
            ],
            [
             0.9,
             "#4d9221"
            ],
            [
             1,
             "#276419"
            ]
           ],
           "sequential": [
            [
             0,
             "#0d0887"
            ],
            [
             0.1111111111111111,
             "#46039f"
            ],
            [
             0.2222222222222222,
             "#7201a8"
            ],
            [
             0.3333333333333333,
             "#9c179e"
            ],
            [
             0.4444444444444444,
             "#bd3786"
            ],
            [
             0.5555555555555556,
             "#d8576b"
            ],
            [
             0.6666666666666666,
             "#ed7953"
            ],
            [
             0.7777777777777778,
             "#fb9f3a"
            ],
            [
             0.8888888888888888,
             "#fdca26"
            ],
            [
             1,
             "#f0f921"
            ]
           ],
           "sequentialminus": [
            [
             0,
             "#0d0887"
            ],
            [
             0.1111111111111111,
             "#46039f"
            ],
            [
             0.2222222222222222,
             "#7201a8"
            ],
            [
             0.3333333333333333,
             "#9c179e"
            ],
            [
             0.4444444444444444,
             "#bd3786"
            ],
            [
             0.5555555555555556,
             "#d8576b"
            ],
            [
             0.6666666666666666,
             "#ed7953"
            ],
            [
             0.7777777777777778,
             "#fb9f3a"
            ],
            [
             0.8888888888888888,
             "#fdca26"
            ],
            [
             1,
             "#f0f921"
            ]
           ]
          },
          "colorway": [
           "#636efa",
           "#EF553B",
           "#00cc96",
           "#ab63fa",
           "#FFA15A",
           "#19d3f3",
           "#FF6692",
           "#B6E880",
           "#FF97FF",
           "#FECB52"
          ],
          "font": {
           "color": "#2a3f5f"
          },
          "geo": {
           "bgcolor": "white",
           "lakecolor": "white",
           "landcolor": "#E5ECF6",
           "showlakes": true,
           "showland": true,
           "subunitcolor": "white"
          },
          "hoverlabel": {
           "align": "left"
          },
          "hovermode": "closest",
          "mapbox": {
           "style": "light"
          },
          "paper_bgcolor": "white",
          "plot_bgcolor": "#E5ECF6",
          "polar": {
           "angularaxis": {
            "gridcolor": "white",
            "linecolor": "white",
            "ticks": ""
           },
           "bgcolor": "#E5ECF6",
           "radialaxis": {
            "gridcolor": "white",
            "linecolor": "white",
            "ticks": ""
           }
          },
          "scene": {
           "xaxis": {
            "backgroundcolor": "#E5ECF6",
            "gridcolor": "white",
            "gridwidth": 2,
            "linecolor": "white",
            "showbackground": true,
            "ticks": "",
            "zerolinecolor": "white"
           },
           "yaxis": {
            "backgroundcolor": "#E5ECF6",
            "gridcolor": "white",
            "gridwidth": 2,
            "linecolor": "white",
            "showbackground": true,
            "ticks": "",
            "zerolinecolor": "white"
           },
           "zaxis": {
            "backgroundcolor": "#E5ECF6",
            "gridcolor": "white",
            "gridwidth": 2,
            "linecolor": "white",
            "showbackground": true,
            "ticks": "",
            "zerolinecolor": "white"
           }
          },
          "shapedefaults": {
           "line": {
            "color": "#2a3f5f"
           }
          },
          "ternary": {
           "aaxis": {
            "gridcolor": "white",
            "linecolor": "white",
            "ticks": ""
           },
           "baxis": {
            "gridcolor": "white",
            "linecolor": "white",
            "ticks": ""
           },
           "bgcolor": "#E5ECF6",
           "caxis": {
            "gridcolor": "white",
            "linecolor": "white",
            "ticks": ""
           }
          },
          "title": {
           "x": 0.05
          },
          "xaxis": {
           "automargin": true,
           "gridcolor": "white",
           "linecolor": "white",
           "ticks": "",
           "title": {
            "standoff": 15
           },
           "zerolinecolor": "white",
           "zerolinewidth": 2
          },
          "yaxis": {
           "automargin": true,
           "gridcolor": "white",
           "linecolor": "white",
           "ticks": "",
           "title": {
            "standoff": 15
           },
           "zerolinecolor": "white",
           "zerolinewidth": 2
          }
         }
        }
       }
      },
      "text/html": [
       "<div>\n",
       "        \n",
       "        \n",
       "            <div id=\"958ffa71-fb66-44f0-909e-1346185bc689\" class=\"plotly-graph-div\" style=\"height:525px; width:100%;\"></div>\n",
       "            <script type=\"text/javascript\">\n",
       "                require([\"plotly\"], function(Plotly) {\n",
       "                    window.PLOTLYENV=window.PLOTLYENV || {};\n",
       "                    \n",
       "                if (document.getElementById(\"958ffa71-fb66-44f0-909e-1346185bc689\")) {\n",
       "                    Plotly.newPlot(\n",
       "                        '958ffa71-fb66-44f0-909e-1346185bc689',\n",
       "                        [{\"lat\": [52.37454030000001, 55.6867243], \"line\": {\"color\": \"red\", \"width\": 3}, \"lon\": [4.897975505617977, 12.5700724], \"mode\": \"markers+lines\", \"name\": \"Flight: Amsterdam-Copenhagen\", \"text\": \"Amsterdam\", \"type\": \"scattergeo\"}, {\"lat\": [55.6867243, 52.2319581], \"line\": {\"color\": \"red\", \"width\": 3}, \"lon\": [12.5700724, 21.0067249], \"mode\": \"markers+lines\", \"name\": \"Flight: Copenhagen-Warsaw\", \"text\": \"Copenhagen\", \"type\": \"scattergeo\"}, {\"lat\": [52.2319581, 48.2083537], \"line\": {\"color\": \"red\", \"width\": 3}, \"lon\": [21.0067249, 16.3725042], \"mode\": \"markers+lines\", \"name\": \"Flight: Warsaw-Vienna\", \"text\": \"Warsaw\", \"type\": \"scattergeo\"}, {\"lat\": [48.2083537, 41.8933203], \"line\": {\"color\": \"red\", \"width\": 3}, \"lon\": [16.3725042, 12.4829321], \"mode\": \"markers+lines\", \"name\": \"Flight: Vienna-Rome\", \"text\": \"Vienna\", \"type\": \"scattergeo\"}, {\"lat\": [41.8933203, 38.7077507], \"line\": {\"color\": \"red\", \"width\": 3}, \"lon\": [12.4829321, -9.1365919], \"mode\": \"markers+lines\", \"name\": \"Flight: Rome-Lisbon\", \"text\": \"Rome\", \"type\": \"scattergeo\"}, {\"lat\": [38.7077507, 40.4167047], \"line\": {\"color\": \"red\", \"width\": 3}, \"lon\": [-9.1365919, -3.7035825], \"mode\": \"markers+lines\", \"name\": \"Flight: Lisbon-Madrid\", \"text\": \"Lisbon\", \"type\": \"scattergeo\"}, {\"lat\": [40.4167047, 48.8566969], \"line\": {\"color\": \"red\", \"width\": 3}, \"lon\": [-3.7035825, 2.3514616], \"mode\": \"markers+lines\", \"name\": \"Flight: Madrid-Paris\", \"text\": \"Madrid\", \"type\": \"scattergeo\"}, {\"lat\": [48.8566969, 51.5073219], \"line\": {\"color\": \"red\", \"width\": 3}, \"lon\": [2.3514616, -0.1276474], \"mode\": \"markers+lines\", \"name\": \"Flight: Paris-London\", \"text\": \"Paris\", \"type\": \"scattergeo\"}, {\"lat\": [51.5073219, 50.0874654], \"line\": {\"color\": \"red\", \"width\": 3}, \"lon\": [-0.1276474, 14.4212535], \"mode\": \"markers+lines\", \"name\": \"Flight: London-Prague\", \"text\": \"London\", \"type\": \"scattergeo\"}, {\"lat\": [50.0874654, 50.8465573], \"line\": {\"color\": \"red\", \"width\": 3}, \"lon\": [14.4212535, 4.351697], \"mode\": \"markers+lines\", \"name\": \"Flight: Prague-Brussels\", \"text\": \"Prague\", \"type\": \"scattergeo\"}, {\"lat\": [50.8465573, 52.5170365], \"line\": {\"color\": \"red\", \"width\": 3}, \"lon\": [4.351697, 13.3888599], \"mode\": \"markers+lines\", \"name\": \"Flight: Brussels-Berlin\", \"text\": \"Brussels\", \"type\": \"scattergeo\"}, {\"lat\": [52.5170365, 52.37454030000001], \"line\": {\"color\": \"red\", \"width\": 3}, \"lon\": [13.3888599, 4.897975505617977], \"mode\": \"markers+lines\", \"name\": \"Flight: Berlin-Amsterdam\", \"text\": \"Berlin\", \"type\": \"scattergeo\"}, {\"lat\": [52.37454030000001, 55.6867243, 52.2319581, 48.2083537, 41.8933203, 38.7077507, 40.4167047, 48.8566969, 51.5073219, 50.0874654, 50.8465573, 52.5170365, 52.37454030000001], \"lon\": [4.897975505617977, 12.5700724, 21.0067249, 16.3725042, 12.4829321, -9.1365919, -3.7035825, 2.3514616, -0.1276474, 14.4212535, 4.351697, 13.3888599, 4.897975505617977], \"mode\": \"text\", \"showlegend\": false, \"text\": [\"Amsterdam\", \"Copenhagen\", \"Warsaw\", \"Vienna\", \"Rome\", \"Lisbon\", \"Madrid\", \"Paris\", \"London\", \"Prague\", \"Brussels\", \"Berlin\", \"Amsterdam\"], \"type\": \"scattergeo\"}],\n",
       "                        {\"geo\": {\"scope\": \"europe\"}, \"template\": {\"data\": {\"bar\": [{\"error_x\": {\"color\": \"#2a3f5f\"}, \"error_y\": {\"color\": \"#2a3f5f\"}, \"marker\": {\"line\": {\"color\": \"#E5ECF6\", \"width\": 0.5}}, \"type\": \"bar\"}], \"barpolar\": [{\"marker\": {\"line\": {\"color\": \"#E5ECF6\", \"width\": 0.5}}, \"type\": \"barpolar\"}], \"carpet\": [{\"aaxis\": {\"endlinecolor\": \"#2a3f5f\", \"gridcolor\": \"white\", \"linecolor\": \"white\", \"minorgridcolor\": \"white\", \"startlinecolor\": \"#2a3f5f\"}, \"baxis\": {\"endlinecolor\": \"#2a3f5f\", \"gridcolor\": \"white\", \"linecolor\": \"white\", \"minorgridcolor\": \"white\", \"startlinecolor\": \"#2a3f5f\"}, \"type\": \"carpet\"}], \"choropleth\": [{\"colorbar\": {\"outlinewidth\": 0, \"ticks\": \"\"}, \"type\": \"choropleth\"}], \"contour\": [{\"colorbar\": {\"outlinewidth\": 0, \"ticks\": \"\"}, \"colorscale\": [[0.0, \"#0d0887\"], [0.1111111111111111, \"#46039f\"], [0.2222222222222222, \"#7201a8\"], [0.3333333333333333, \"#9c179e\"], [0.4444444444444444, \"#bd3786\"], [0.5555555555555556, \"#d8576b\"], [0.6666666666666666, \"#ed7953\"], [0.7777777777777778, \"#fb9f3a\"], [0.8888888888888888, \"#fdca26\"], [1.0, \"#f0f921\"]], \"type\": \"contour\"}], \"contourcarpet\": [{\"colorbar\": {\"outlinewidth\": 0, \"ticks\": \"\"}, \"type\": \"contourcarpet\"}], \"heatmap\": [{\"colorbar\": {\"outlinewidth\": 0, \"ticks\": \"\"}, \"colorscale\": [[0.0, \"#0d0887\"], [0.1111111111111111, \"#46039f\"], [0.2222222222222222, \"#7201a8\"], [0.3333333333333333, \"#9c179e\"], [0.4444444444444444, \"#bd3786\"], [0.5555555555555556, \"#d8576b\"], [0.6666666666666666, \"#ed7953\"], [0.7777777777777778, \"#fb9f3a\"], [0.8888888888888888, \"#fdca26\"], [1.0, \"#f0f921\"]], \"type\": \"heatmap\"}], \"heatmapgl\": [{\"colorbar\": {\"outlinewidth\": 0, \"ticks\": \"\"}, \"colorscale\": [[0.0, \"#0d0887\"], [0.1111111111111111, \"#46039f\"], [0.2222222222222222, \"#7201a8\"], [0.3333333333333333, \"#9c179e\"], [0.4444444444444444, \"#bd3786\"], [0.5555555555555556, \"#d8576b\"], [0.6666666666666666, \"#ed7953\"], [0.7777777777777778, \"#fb9f3a\"], [0.8888888888888888, \"#fdca26\"], [1.0, \"#f0f921\"]], \"type\": \"heatmapgl\"}], \"histogram\": [{\"marker\": {\"colorbar\": {\"outlinewidth\": 0, \"ticks\": \"\"}}, \"type\": \"histogram\"}], \"histogram2d\": [{\"colorbar\": {\"outlinewidth\": 0, \"ticks\": \"\"}, \"colorscale\": [[0.0, \"#0d0887\"], [0.1111111111111111, \"#46039f\"], [0.2222222222222222, \"#7201a8\"], [0.3333333333333333, \"#9c179e\"], [0.4444444444444444, \"#bd3786\"], [0.5555555555555556, \"#d8576b\"], [0.6666666666666666, \"#ed7953\"], [0.7777777777777778, \"#fb9f3a\"], [0.8888888888888888, \"#fdca26\"], [1.0, \"#f0f921\"]], \"type\": \"histogram2d\"}], \"histogram2dcontour\": [{\"colorbar\": {\"outlinewidth\": 0, \"ticks\": \"\"}, \"colorscale\": [[0.0, \"#0d0887\"], [0.1111111111111111, \"#46039f\"], [0.2222222222222222, \"#7201a8\"], [0.3333333333333333, \"#9c179e\"], [0.4444444444444444, \"#bd3786\"], [0.5555555555555556, \"#d8576b\"], [0.6666666666666666, \"#ed7953\"], [0.7777777777777778, \"#fb9f3a\"], [0.8888888888888888, \"#fdca26\"], [1.0, \"#f0f921\"]], \"type\": \"histogram2dcontour\"}], \"mesh3d\": [{\"colorbar\": {\"outlinewidth\": 0, \"ticks\": \"\"}, \"type\": \"mesh3d\"}], \"parcoords\": [{\"line\": {\"colorbar\": {\"outlinewidth\": 0, \"ticks\": \"\"}}, \"type\": \"parcoords\"}], \"pie\": [{\"automargin\": true, \"type\": \"pie\"}], \"scatter\": [{\"marker\": {\"colorbar\": {\"outlinewidth\": 0, \"ticks\": \"\"}}, \"type\": \"scatter\"}], \"scatter3d\": [{\"line\": {\"colorbar\": {\"outlinewidth\": 0, \"ticks\": \"\"}}, \"marker\": {\"colorbar\": {\"outlinewidth\": 0, \"ticks\": \"\"}}, \"type\": \"scatter3d\"}], \"scattercarpet\": [{\"marker\": {\"colorbar\": {\"outlinewidth\": 0, \"ticks\": \"\"}}, \"type\": \"scattercarpet\"}], \"scattergeo\": [{\"marker\": {\"colorbar\": {\"outlinewidth\": 0, \"ticks\": \"\"}}, \"type\": \"scattergeo\"}], \"scattergl\": [{\"marker\": {\"colorbar\": {\"outlinewidth\": 0, \"ticks\": \"\"}}, \"type\": \"scattergl\"}], \"scattermapbox\": [{\"marker\": {\"colorbar\": {\"outlinewidth\": 0, \"ticks\": \"\"}}, \"type\": \"scattermapbox\"}], \"scatterpolar\": [{\"marker\": {\"colorbar\": {\"outlinewidth\": 0, \"ticks\": \"\"}}, \"type\": \"scatterpolar\"}], \"scatterpolargl\": [{\"marker\": {\"colorbar\": {\"outlinewidth\": 0, \"ticks\": \"\"}}, \"type\": \"scatterpolargl\"}], \"scatterternary\": [{\"marker\": {\"colorbar\": {\"outlinewidth\": 0, \"ticks\": \"\"}}, \"type\": \"scatterternary\"}], \"surface\": [{\"colorbar\": {\"outlinewidth\": 0, \"ticks\": \"\"}, \"colorscale\": [[0.0, \"#0d0887\"], [0.1111111111111111, \"#46039f\"], [0.2222222222222222, \"#7201a8\"], [0.3333333333333333, \"#9c179e\"], [0.4444444444444444, \"#bd3786\"], [0.5555555555555556, \"#d8576b\"], [0.6666666666666666, \"#ed7953\"], [0.7777777777777778, \"#fb9f3a\"], [0.8888888888888888, \"#fdca26\"], [1.0, \"#f0f921\"]], \"type\": \"surface\"}], \"table\": [{\"cells\": {\"fill\": {\"color\": \"#EBF0F8\"}, \"line\": {\"color\": \"white\"}}, \"header\": {\"fill\": {\"color\": \"#C8D4E3\"}, \"line\": {\"color\": \"white\"}}, \"type\": \"table\"}]}, \"layout\": {\"annotationdefaults\": {\"arrowcolor\": \"#2a3f5f\", \"arrowhead\": 0, \"arrowwidth\": 1}, \"coloraxis\": {\"colorbar\": {\"outlinewidth\": 0, \"ticks\": \"\"}}, \"colorscale\": {\"diverging\": [[0, \"#8e0152\"], [0.1, \"#c51b7d\"], [0.2, \"#de77ae\"], [0.3, \"#f1b6da\"], [0.4, \"#fde0ef\"], [0.5, \"#f7f7f7\"], [0.6, \"#e6f5d0\"], [0.7, \"#b8e186\"], [0.8, \"#7fbc41\"], [0.9, \"#4d9221\"], [1, \"#276419\"]], \"sequential\": [[0.0, \"#0d0887\"], [0.1111111111111111, \"#46039f\"], [0.2222222222222222, \"#7201a8\"], [0.3333333333333333, \"#9c179e\"], [0.4444444444444444, \"#bd3786\"], [0.5555555555555556, \"#d8576b\"], [0.6666666666666666, \"#ed7953\"], [0.7777777777777778, \"#fb9f3a\"], [0.8888888888888888, \"#fdca26\"], [1.0, \"#f0f921\"]], \"sequentialminus\": [[0.0, \"#0d0887\"], [0.1111111111111111, \"#46039f\"], [0.2222222222222222, \"#7201a8\"], [0.3333333333333333, \"#9c179e\"], [0.4444444444444444, \"#bd3786\"], [0.5555555555555556, \"#d8576b\"], [0.6666666666666666, \"#ed7953\"], [0.7777777777777778, \"#fb9f3a\"], [0.8888888888888888, \"#fdca26\"], [1.0, \"#f0f921\"]]}, \"colorway\": [\"#636efa\", \"#EF553B\", \"#00cc96\", \"#ab63fa\", \"#FFA15A\", \"#19d3f3\", \"#FF6692\", \"#B6E880\", \"#FF97FF\", \"#FECB52\"], \"font\": {\"color\": \"#2a3f5f\"}, \"geo\": {\"bgcolor\": \"white\", \"lakecolor\": \"white\", \"landcolor\": \"#E5ECF6\", \"showlakes\": true, \"showland\": true, \"subunitcolor\": \"white\"}, \"hoverlabel\": {\"align\": \"left\"}, \"hovermode\": \"closest\", \"mapbox\": {\"style\": \"light\"}, \"paper_bgcolor\": \"white\", \"plot_bgcolor\": \"#E5ECF6\", \"polar\": {\"angularaxis\": {\"gridcolor\": \"white\", \"linecolor\": \"white\", \"ticks\": \"\"}, \"bgcolor\": \"#E5ECF6\", \"radialaxis\": {\"gridcolor\": \"white\", \"linecolor\": \"white\", \"ticks\": \"\"}}, \"scene\": {\"xaxis\": {\"backgroundcolor\": \"#E5ECF6\", \"gridcolor\": \"white\", \"gridwidth\": 2, \"linecolor\": \"white\", \"showbackground\": true, \"ticks\": \"\", \"zerolinecolor\": \"white\"}, \"yaxis\": {\"backgroundcolor\": \"#E5ECF6\", \"gridcolor\": \"white\", \"gridwidth\": 2, \"linecolor\": \"white\", \"showbackground\": true, \"ticks\": \"\", \"zerolinecolor\": \"white\"}, \"zaxis\": {\"backgroundcolor\": \"#E5ECF6\", \"gridcolor\": \"white\", \"gridwidth\": 2, \"linecolor\": \"white\", \"showbackground\": true, \"ticks\": \"\", \"zerolinecolor\": \"white\"}}, \"shapedefaults\": {\"line\": {\"color\": \"#2a3f5f\"}}, \"ternary\": {\"aaxis\": {\"gridcolor\": \"white\", \"linecolor\": \"white\", \"ticks\": \"\"}, \"baxis\": {\"gridcolor\": \"white\", \"linecolor\": \"white\", \"ticks\": \"\"}, \"bgcolor\": \"#E5ECF6\", \"caxis\": {\"gridcolor\": \"white\", \"linecolor\": \"white\", \"ticks\": \"\"}}, \"title\": {\"x\": 0.05}, \"xaxis\": {\"automargin\": true, \"gridcolor\": \"white\", \"linecolor\": \"white\", \"ticks\": \"\", \"title\": {\"standoff\": 15}, \"zerolinecolor\": \"white\", \"zerolinewidth\": 2}, \"yaxis\": {\"automargin\": true, \"gridcolor\": \"white\", \"linecolor\": \"white\", \"ticks\": \"\", \"title\": {\"standoff\": 15}, \"zerolinecolor\": \"white\", \"zerolinewidth\": 2}}}},\n",
       "                        {\"responsive\": true}\n",
       "                    ).then(function(){\n",
       "                            \n",
       "var gd = document.getElementById('958ffa71-fb66-44f0-909e-1346185bc689');\n",
       "var x = new MutationObserver(function (mutations, observer) {{\n",
       "        var display = window.getComputedStyle(gd).display;\n",
       "        if (!display || display === 'none') {{\n",
       "            console.log([gd, 'removed!']);\n",
       "            Plotly.purge(gd);\n",
       "            observer.disconnect();\n",
       "        }}\n",
       "}});\n",
       "\n",
       "// Listen for the removal of the full notebook cells\n",
       "var notebookContainer = gd.closest('#notebook-container');\n",
       "if (notebookContainer) {{\n",
       "    x.observe(notebookContainer, {childList: true});\n",
       "}}\n",
       "\n",
       "// Listen for the clearing of the current output cell\n",
       "var outputEl = gd.closest('.output');\n",
       "if (outputEl) {{\n",
       "    x.observe(outputEl, {childList: true});\n",
       "}}\n",
       "\n",
       "                        })\n",
       "                };\n",
       "                });\n",
       "            </script>\n",
       "        </div>"
      ]
     },
     "metadata": {},
     "output_type": "display_data"
    }
   ],
   "source": [
    "# Plot the route\n",
    "import plotly.graph_objects as go\n",
    "fig = go.Figure()\n",
    "\n",
    "# If bus then add a green line, if flight then add red line\n",
    "for i in range(len(df_coord)-1):\n",
    "    if current_borf[i] == 'B':\n",
    "        fig.add_trace(go.Scattergeo(\n",
    "                lon = [df_coord['lon'][i],df_coord['lon'][i+1]],\n",
    "                lat = [df_coord['lat'][i],df_coord['lat'][i+1]],\n",
    "                name = \"Bus: \" + df_coord['city'][i] + \"-\" + df_coord['city'][i+1],\n",
    "                mode = 'markers+lines',\n",
    "                text = df_coord['city'][i],\n",
    "                line = go.scattergeo.Line(\n",
    "                            color = 'green',\n",
    "                            width = 3)))\n",
    "\n",
    "    elif current_borf[i] == 'F':\n",
    "        fig.add_trace(go.Scattergeo(\n",
    "                lon = [df_coord['lon'][i],df_coord['lon'][i+1]],\n",
    "                lat = [df_coord['lat'][i],df_coord['lat'][i+1]],\n",
    "                name = \"Flight: \" + df_coord['city'][i] + \"-\" + df_coord['city'][i+1],\n",
    "                mode = 'markers+lines',\n",
    "                text = df_coord['city'][i],\n",
    "                line = go.scattergeo.Line(\n",
    "                           color = 'red',\n",
    "                           width = 3)))\n",
    "\n",
    "# Set the map layout to Europe        \n",
    "fig.update_layout(geo_scope='europe')\n",
    "\n",
    "# Add city names to the plot\n",
    "fig.add_trace(go.Scattergeo(\n",
    "                lon = df_coord['lon'],\n",
    "                lat = df_coord['lat'],\n",
    "                text = df_coord['city'],\n",
    "                mode = 'text',\n",
    "                showlegend = False))\n",
    "\n",
    "fig.show()\n"
   ]
  },
  {
   "cell_type": "markdown",
   "metadata": {},
   "source": [
    "## 3.6 Explorative Data analysis"
   ]
  },
  {
   "cell_type": "code",
   "execution_count": 14,
   "metadata": {},
   "outputs": [
    {
     "name": "stdout",
     "output_type": "stream",
     "text": [
      "mean cost NSGA-II = 380.22\n",
      "mean cost MOEA/D = 356.64\n",
      "mean cost IBEA = 382.11\n",
      "mean time NSGA-II = 3369.97\n",
      "mean time MOEA/D = 2375.0\n",
      "mean time IBEA = 2219.93\n",
      "mean time NSGA-II = 571.3\n",
      "mean time MOEA/D = 742.31\n",
      "mean time IBEA = 632.98\n"
     ]
    }
   ],
   "source": [
    "print(\"mean cost NSGA-II =\",round(np.mean(df_result_NSGAII['cost']),2))\n",
    "print(\"mean cost MOEA/D =\",round(np.mean(df_result_MOEAD['cost']),2))\n",
    "print(\"mean cost IBEA =\",round(np.mean(df_result_IBEA['cost']),2))\n",
    "\n",
    "print(\"mean time NSGA-II =\",round(np.mean(df_result_NSGAII['time']),2))\n",
    "print(\"mean time MOEA/D =\",round(np.mean(df_result_MOEAD['time']),2))\n",
    "print(\"mean time IBEA =\",round(np.mean(df_result_IBEA['time']),2))\n",
    "\n",
    "print(\"mean time NSGA-II =\",round(np.mean(df_result_NSGAII['carbon']),2))\n",
    "print(\"mean time MOEA/D =\",round(np.mean(df_result_MOEAD['carbon']),2))\n",
    "print(\"mean time IBEA =\",round(np.mean(df_result_IBEA['carbon']),2))"
   ]
  },
  {
   "cell_type": "code",
   "execution_count": 15,
   "metadata": {},
   "outputs": [
    {
     "ename": "ValueError",
     "evalue": "Illegal argument(s) to subplot: (3, 1)",
     "output_type": "error",
     "traceback": [
      "\u001b[1;31m---------------------------------------------------------------------------\u001b[0m",
      "\u001b[1;31mValueError\u001b[0m                                Traceback (most recent call last)",
      "\u001b[1;32m<ipython-input-15-b45384a62e3b>\u001b[0m in \u001b[0;36m<module>\u001b[1;34m\u001b[0m\n\u001b[1;32m----> 1\u001b[1;33m \u001b[0mfig\u001b[0m\u001b[1;33m,\u001b[0m \u001b[0max\u001b[0m \u001b[1;33m=\u001b[0m \u001b[0mplt\u001b[0m\u001b[1;33m.\u001b[0m\u001b[0msubplot\u001b[0m\u001b[1;33m(\u001b[0m\u001b[1;36m3\u001b[0m\u001b[1;33m,\u001b[0m\u001b[1;36m1\u001b[0m\u001b[1;33m)\u001b[0m\u001b[1;33m\u001b[0m\u001b[1;33m\u001b[0m\u001b[0m\n\u001b[0m",
      "\u001b[1;32mc:\\users\\kevin\\appdata\\local\\programs\\python\\python37\\lib\\site-packages\\matplotlib\\pyplot.py\u001b[0m in \u001b[0;36msubplot\u001b[1;34m(*args, **kwargs)\u001b[0m\n\u001b[0;32m   1028\u001b[0m \u001b[1;33m\u001b[0m\u001b[0m\n\u001b[0;32m   1029\u001b[0m     \u001b[0mfig\u001b[0m \u001b[1;33m=\u001b[0m \u001b[0mgcf\u001b[0m\u001b[1;33m(\u001b[0m\u001b[1;33m)\u001b[0m\u001b[1;33m\u001b[0m\u001b[1;33m\u001b[0m\u001b[0m\n\u001b[1;32m-> 1030\u001b[1;33m     \u001b[0ma\u001b[0m \u001b[1;33m=\u001b[0m \u001b[0mfig\u001b[0m\u001b[1;33m.\u001b[0m\u001b[0madd_subplot\u001b[0m\u001b[1;33m(\u001b[0m\u001b[1;33m*\u001b[0m\u001b[0margs\u001b[0m\u001b[1;33m,\u001b[0m \u001b[1;33m**\u001b[0m\u001b[0mkwargs\u001b[0m\u001b[1;33m)\u001b[0m\u001b[1;33m\u001b[0m\u001b[1;33m\u001b[0m\u001b[0m\n\u001b[0m\u001b[0;32m   1031\u001b[0m     \u001b[0mbbox\u001b[0m \u001b[1;33m=\u001b[0m \u001b[0ma\u001b[0m\u001b[1;33m.\u001b[0m\u001b[0mbbox\u001b[0m\u001b[1;33m\u001b[0m\u001b[1;33m\u001b[0m\u001b[0m\n\u001b[0;32m   1032\u001b[0m     \u001b[0mbyebye\u001b[0m \u001b[1;33m=\u001b[0m \u001b[1;33m[\u001b[0m\u001b[1;33m]\u001b[0m\u001b[1;33m\u001b[0m\u001b[1;33m\u001b[0m\u001b[0m\n",
      "\u001b[1;32mc:\\users\\kevin\\appdata\\local\\programs\\python\\python37\\lib\\site-packages\\matplotlib\\figure.py\u001b[0m in \u001b[0;36madd_subplot\u001b[1;34m(self, *args, **kwargs)\u001b[0m\n\u001b[0;32m   1417\u001b[0m                     \u001b[0mself\u001b[0m\u001b[1;33m.\u001b[0m\u001b[0m_axstack\u001b[0m\u001b[1;33m.\u001b[0m\u001b[0mremove\u001b[0m\u001b[1;33m(\u001b[0m\u001b[0max\u001b[0m\u001b[1;33m)\u001b[0m\u001b[1;33m\u001b[0m\u001b[1;33m\u001b[0m\u001b[0m\n\u001b[0;32m   1418\u001b[0m \u001b[1;33m\u001b[0m\u001b[0m\n\u001b[1;32m-> 1419\u001b[1;33m             \u001b[0ma\u001b[0m \u001b[1;33m=\u001b[0m \u001b[0msubplot_class_factory\u001b[0m\u001b[1;33m(\u001b[0m\u001b[0mprojection_class\u001b[0m\u001b[1;33m)\u001b[0m\u001b[1;33m(\u001b[0m\u001b[0mself\u001b[0m\u001b[1;33m,\u001b[0m \u001b[1;33m*\u001b[0m\u001b[0margs\u001b[0m\u001b[1;33m,\u001b[0m \u001b[1;33m**\u001b[0m\u001b[0mkwargs\u001b[0m\u001b[1;33m)\u001b[0m\u001b[1;33m\u001b[0m\u001b[1;33m\u001b[0m\u001b[0m\n\u001b[0m\u001b[0;32m   1420\u001b[0m \u001b[1;33m\u001b[0m\u001b[0m\n\u001b[0;32m   1421\u001b[0m         \u001b[1;32mreturn\u001b[0m \u001b[0mself\u001b[0m\u001b[1;33m.\u001b[0m\u001b[0m_add_axes_internal\u001b[0m\u001b[1;33m(\u001b[0m\u001b[0mkey\u001b[0m\u001b[1;33m,\u001b[0m \u001b[0ma\u001b[0m\u001b[1;33m)\u001b[0m\u001b[1;33m\u001b[0m\u001b[1;33m\u001b[0m\u001b[0m\n",
      "\u001b[1;32mc:\\users\\kevin\\appdata\\local\\programs\\python\\python37\\lib\\site-packages\\matplotlib\\axes\\_subplots.py\u001b[0m in \u001b[0;36m__init__\u001b[1;34m(self, fig, *args, **kwargs)\u001b[0m\n\u001b[0;32m     69\u001b[0m                 \u001b[1;31m# num - 1 for converting from MATLAB to python indexing\u001b[0m\u001b[1;33m\u001b[0m\u001b[1;33m\u001b[0m\u001b[1;33m\u001b[0m\u001b[0m\n\u001b[0;32m     70\u001b[0m         \u001b[1;32melse\u001b[0m\u001b[1;33m:\u001b[0m\u001b[1;33m\u001b[0m\u001b[1;33m\u001b[0m\u001b[0m\n\u001b[1;32m---> 71\u001b[1;33m             \u001b[1;32mraise\u001b[0m \u001b[0mValueError\u001b[0m\u001b[1;33m(\u001b[0m\u001b[1;34mf'Illegal argument(s) to subplot: {args}'\u001b[0m\u001b[1;33m)\u001b[0m\u001b[1;33m\u001b[0m\u001b[1;33m\u001b[0m\u001b[0m\n\u001b[0m\u001b[0;32m     72\u001b[0m \u001b[1;33m\u001b[0m\u001b[0m\n\u001b[0;32m     73\u001b[0m         \u001b[0mself\u001b[0m\u001b[1;33m.\u001b[0m\u001b[0mupdate_params\u001b[0m\u001b[1;33m(\u001b[0m\u001b[1;33m)\u001b[0m\u001b[1;33m\u001b[0m\u001b[1;33m\u001b[0m\u001b[0m\n",
      "\u001b[1;31mValueError\u001b[0m: Illegal argument(s) to subplot: (3, 1)"
     ]
    },
    {
     "data": {
      "text/plain": [
       "<Figure size 432x288 with 0 Axes>"
      ]
     },
     "metadata": {},
     "output_type": "display_data"
    }
   ],
   "source": [
    "fig, ax = plt.subplot(3,1)"
   ]
  },
  {
   "cell_type": "markdown",
   "metadata": {},
   "source": [
    "# 4. Experimenter\n",
    "The experimenter in the Platypus framework allows the user to compare multiple algorithms or algorithm settings. Several performance metrics are included in the framework. Here, I focused on the hypervolume indicator. The larger the hypervolume the better the performance.\n",
    "\n",
    "Please note, that the following code will again run for 30 seeds and 10.000 function evaluations which will also take approximately 30 minutes depending on your computer's performance."
   ]
  },
  {
   "cell_type": "code",
   "execution_count": 16,
   "metadata": {
    "colab": {},
    "colab_type": "code",
    "id": "r7A4NpVrY9B-",
    "outputId": "a37af868-920f-4463-96ab-8153e0732c55",
    "scrolled": true
   },
   "outputs": [
    {
     "name": "stdout",
     "output_type": "stream",
     "text": [
      "NSGAII\n",
      "    Problem\n",
      "        Hypervolume : [0.626, 0.641, 0.639, 0.647, 0.637, 0.654, 0.637, 0.632, 0.649, 0.641, 0.64, 0.633, 0.658, 0.652, 0.651, 0.642, 0.635, 0.641, 0.643, 0.647, 0.64, 0.618, 0.644, 0.633, 0.65, 0.636, 0.644, 0.63, 0.648, 0.628]\n",
      "MOEAD\n",
      "    Problem\n",
      "        Hypervolume : [0.629, 0.621, 0.606, 0.606, 0.643, 0.585, 0.625, 0.615, 0.603, 0.627, 0.607, 0.634, 0.628, 0.63, 0.625, 0.58, 0.611, 0.639, 0.615, 0.635, 0.614, 0.636, 0.606, 0.636, 0.596, 0.624, 0.595, 0.597, 0.643, 0.611]\n",
      "IBEA\n",
      "    Problem\n",
      "        Hypervolume : [0.63, 0.634, 0.63, 0.633, 0.639, 0.612, 0.599, 0.606, 0.596, 0.623, 0.637, 0.63, 0.64, 0.593, 0.631, 0.623, 0.635, 0.635, 0.627, 0.622, 0.63, 0.621, 0.636, 0.624, 0.634, 0.616, 0.642, 0.636, 0.616, 0.603]\n"
     ]
    }
   ],
   "source": [
    "# Load the hyp_result variable from the hard disk\n",
    "hyp_result = pickle.load(open(\"hyp_result_3obj_MOTSP12.p\",\"rb\"))\n",
    "display(hyp_result, ndigits=3)"
   ]
  },
  {
   "cell_type": "markdown",
   "metadata": {},
   "source": [
    "## 4.1 Run the experimenter (skip)"
   ]
  },
  {
   "cell_type": "code",
   "execution_count": null,
   "metadata": {},
   "outputs": [],
   "source": [
    "# Skip\n",
    "city_list = list(np.arange(1,12))\n",
    "print(city_list)\n",
    "\n",
    "problem = Problem(nvars=2, nobjs=3)\n",
    "problem.types[0:] = Permutation(city_list)\n",
    "problem.types[1:] = Binary(len(city_list)+1)\n",
    "problem.directions[:] = Problem.MINIMIZE\n",
    "problem.function = two_opt\n",
    "\n",
    "algo_list = [NSGAII, MOEAD, IBEA]\n",
    "\n",
    "# Wird die offspring_size auch automatisch angepasst, wenn ich pop_size verändere?\n",
    "\n",
    "if __name__ == \"__main__\":\n",
    "    algorithms = [(NSGAII, {\"variator\": PMX()}),\n",
    "                  (MOEAD,  {\"variator\": PMX()}),\n",
    "                  (IBEA,   {\"variator\": PMX()})]\n",
    "    \n",
    "    # run the experiment\n",
    "    # seeds determines how many times the same algorithm is run (= sample size) \n",
    "    results = experiment(algorithms, problem, seeds=30, nfe=10000)\n",
    "\n",
    "    # calculate the hypervolume indicator \n",
    "    hyp = Hypervolume(minimum=[0,0,0],maximum=[10000,10000,10000])\n",
    "    hyp_result = calculate(results, hyp)\n",
    "    display(hyp_result, ndigits=3)"
   ]
  },
  {
   "cell_type": "code",
   "execution_count": 36,
   "metadata": {},
   "outputs": [],
   "source": [
    "# Skip\n",
    "# Store the result variables on the harddisk\n",
    "import pickle\n",
    "pickle.dump(hyp_result, open(\"hyp_result_3obj_MOTSP12.p\", \"wb\"))"
   ]
  },
  {
   "cell_type": "code",
   "execution_count": 18,
   "metadata": {},
   "outputs": [
    {
     "data": {
      "image/png": "[encoded data removed]",
      "text/plain": [
       "<Figure size 1080x360 with 3 Axes>"
      ]
     },
     "metadata": {
      "needs_background": "light"
     },
     "output_type": "display_data"
    }
   ],
   "source": [
    "# Histograms of the hypervolume indicators of all three algorithms\n",
    "BIGGER_SIZE = 16\n",
    "plt.rc('axes',  labelsize=BIGGER_SIZE)   # fontsize of the x and y labels\n",
    "plt.rc('xtick', labelsize=BIGGER_SIZE)    # fontsize of the tick labels\n",
    "plt.rc('ytick', labelsize=BIGGER_SIZE)    # fontsize of the tick labels\n",
    "plt.rc('axes',  titlesize=BIGGER_SIZE)\n",
    "\n",
    "fig, axs = plt.subplots(1,3,figsize=(15,5),sharex=True, sharey=True)\n",
    "\n",
    "axs[0].hist(x = hyp_result['NSGAII']['Problem']['Hypervolume'])\n",
    "axs[0].set_title('Hypervolume Distribution: NSGA-II')\n",
    "axs[0].set(ylabel='No. of occurence')\n",
    "\n",
    "axs[1].hist(x = hyp_result['MOEAD']['Problem']['Hypervolume'])\n",
    "axs[1].set_title('Hypervolume Distribution: MOEA/D')\n",
    "\n",
    "axs[2].hist(x = hyp_result['IBEA']['Problem']['Hypervolume'])\n",
    "axs[2].set_title('Hypervolume Distribution: IBEA')\n",
    "\n",
    "for ax in axs.flat:\n",
    "    ax.set(xlabel='Hypervolume Indicator')\n",
    "    \n",
    "plt.show()"
   ]
  },
  {
   "cell_type": "code",
   "execution_count": 19,
   "metadata": {},
   "outputs": [
    {
     "name": "stdout",
     "output_type": "stream",
     "text": [
      "[0.6404815960102831, 0.6173279728146698, 0.6244599344171237]\n"
     ]
    },
    {
     "data": {
      "image/png": "[encoded data removed]",
      "text/plain": [
       "<Figure size 432x288 with 1 Axes>"
      ]
     },
     "metadata": {
      "needs_background": "light"
     },
     "output_type": "display_data"
    }
   ],
   "source": [
    "# Compare the mean hypervolume indicator over all 30 runs\n",
    "\n",
    "hyp_NSGAII  = hyp_result['NSGAII']['Problem']['Hypervolume']\n",
    "hyp_MOEAD   = hyp_result['MOEAD']['Problem']['Hypervolume']\n",
    "hyp_IBEA    = hyp_result['IBEA']['Problem']['Hypervolume']\n",
    "\n",
    "mean_hyp = [np.mean(hyp_NSGAII), np.mean(hyp_MOEAD), np.mean(hyp_IBEA)]\n",
    "print(mean_hyp)\n",
    "\n",
    "plt.bar(x=['NSGA-II','MOEA/D','IBEA'], height=mean_hyp)\n",
    "\n",
    "# Display the values on each bar\n",
    "for index, value in enumerate(mean_hyp):\n",
    "    plt.text(index-0.1, value-0.05, str(round(value,3)), color='white')\n",
    "\n",
    "plt.title('Comparison of mean hypervolume indicators over all 30 runs')\n",
    "plt.ylabel('Mean HVI')\n",
    "plt.show()"
   ]
  },
  {
   "cell_type": "markdown",
   "metadata": {},
   "source": [
    "## 4.2 Wilcoxon Signed-Rank Test"
   ]
  },
  {
   "cell_type": "code",
   "execution_count": 20,
   "metadata": {},
   "outputs": [
    {
     "name": "stdout",
     "output_type": "stream",
     "text": [
      "NSGAII vs MOEAD WilcoxonResult(statistic=27.0, pvalue=2.370447702550485e-05)\n",
      "NSGAII vs IBEA  WilcoxonResult(statistic=22.0, pvalue=1.493563929839868e-05)\n",
      "MOEAD vs IBEA   WilcoxonResult(statistic=157.0, pvalue=0.12044472790832522)\n"
     ]
    }
   ],
   "source": [
    "# Wilcoxon signed-rank test\n",
    "# The Wilcoxon Signed Rank Test is a non-parametric test for comparing two paired (dependent) data sets. \n",
    "# It is an alternative to Students Paired t-Test and is used when one or more of the data sets is \n",
    "# not normally distributed, and sometimes when sample siz is small.\n",
    "# Tests whether the central tendencies of two dependent samples are different\n",
    "\n",
    "test1 = stats.wilcoxon(hyp_NSGAII, hyp_MOEAD)\n",
    "test2 = stats.wilcoxon(hyp_NSGAII, hyp_IBEA)\n",
    "test3 = stats.wilcoxon(hyp_MOEAD, hyp_IBEA)\n",
    "\n",
    "print(\"NSGAII vs MOEAD\",test1)\n",
    "print(\"NSGAII vs IBEA \", test2)\n",
    "print(\"MOEAD vs IBEA  \",  test3)\n",
    "\n",
    "# NSGAII vs MOEAD: Significant difference\n",
    "# NSGAII vs IBEA: Significant difference\n",
    "# MOEAD vs IBEA: Significant difference"
   ]
  },
  {
   "cell_type": "markdown",
   "metadata": {},
   "source": [
    "## 4.3 Sample Size\n",
    "The lower the standard error of the mean (SEM) the higher the level of confidence."
   ]
  },
  {
   "cell_type": "code",
   "execution_count": 21,
   "metadata": {
    "scrolled": false
   },
   "outputs": [
    {
     "data": {
      "application/vnd.plotly.v1+json": {
       "config": {
        "plotlyServerURL": "https://plot.ly"
       },
       "data": [
        {
         "type": "scatter",
         "x": [
          3,
          4,
          5,
          6,
          7,
          8,
          9,
          10,
          11,
          12,
          13,
          14,
          15,
          16,
          17,
          18,
          19,
          20,
          21,
          22,
          23,
          24,
          25,
          26,
          27,
          28,
          29
         ],
         "y": [
          0.004557169320159101,
          0.004295226189606551,
          0.003330547868983573,
          0.00378485045391337,
          0.0032490839260102037,
          0.0029971055947884454,
          0.002886047086818503,
          0.0025815538230155965,
          0.0023352482965123033,
          0.0022081715444048676,
          0.002475884040123051,
          0.0024304758085615017,
          0.002337681715597409,
          0.0021869999637819716,
          0.002105383752793215,
          0.001985943576016252,
          0.0018801150133018218,
          0.0018000824271643676,
          0.0017164281218357616,
          0.001959133782017528,
          0.0018764435958507082,
          0.0018298861803970647,
          0.0017950332008015222,
          0.0017370612125039446,
          0.0016761403670524928,
          0.0016666747101883662,
          0.001626086396091389
         ]
        }
       ],
       "layout": {
        "template": {
         "data": {
          "bar": [
           {
            "error_x": {
             "color": "#2a3f5f"
            },
            "error_y": {
             "color": "#2a3f5f"
            },
            "marker": {
             "line": {
              "color": "#E5ECF6",
              "width": 0.5
             }
            },
            "type": "bar"
           }
          ],
          "barpolar": [
           {
            "marker": {
             "line": {
              "color": "#E5ECF6",
              "width": 0.5
             }
            },
            "type": "barpolar"
           }
          ],
          "carpet": [
           {
            "aaxis": {
             "endlinecolor": "#2a3f5f",
             "gridcolor": "white",
             "linecolor": "white",
             "minorgridcolor": "white",
             "startlinecolor": "#2a3f5f"
            },
            "baxis": {
             "endlinecolor": "#2a3f5f",
             "gridcolor": "white",
             "linecolor": "white",
             "minorgridcolor": "white",
             "startlinecolor": "#2a3f5f"
            },
            "type": "carpet"
           }
          ],
          "choropleth": [
           {
            "colorbar": {
             "outlinewidth": 0,
             "ticks": ""
            },
            "type": "choropleth"
           }
          ],
          "contour": [
           {
            "colorbar": {
             "outlinewidth": 0,
             "ticks": ""
            },
            "colorscale": [
             [
              0,
              "#0d0887"
             ],
             [
              0.1111111111111111,
              "#46039f"
             ],
             [
              0.2222222222222222,
              "#7201a8"
             ],
             [
              0.3333333333333333,
              "#9c179e"
             ],
             [
              0.4444444444444444,
              "#bd3786"
             ],
             [
              0.5555555555555556,
              "#d8576b"
             ],
             [
              0.6666666666666666,
              "#ed7953"
             ],
             [
              0.7777777777777778,
              "#fb9f3a"
             ],
             [
              0.8888888888888888,
              "#fdca26"
             ],
             [
              1,
              "#f0f921"
             ]
            ],
            "type": "contour"
           }
          ],
          "contourcarpet": [
           {
            "colorbar": {
             "outlinewidth": 0,
             "ticks": ""
            },
            "type": "contourcarpet"
           }
          ],
          "heatmap": [
           {
            "colorbar": {
             "outlinewidth": 0,
             "ticks": ""
            },
            "colorscale": [
             [
              0,
              "#0d0887"
             ],
             [
              0.1111111111111111,
              "#46039f"
             ],
             [
              0.2222222222222222,
              "#7201a8"
             ],
             [
              0.3333333333333333,
              "#9c179e"
             ],
             [
              0.4444444444444444,
              "#bd3786"
             ],
             [
              0.5555555555555556,
              "#d8576b"
             ],
             [
              0.6666666666666666,
              "#ed7953"
             ],
             [
              0.7777777777777778,
              "#fb9f3a"
             ],
             [
              0.8888888888888888,
              "#fdca26"
             ],
             [
              1,
              "#f0f921"
             ]
            ],
            "type": "heatmap"
           }
          ],
          "heatmapgl": [
           {
            "colorbar": {
             "outlinewidth": 0,
             "ticks": ""
            },
            "colorscale": [
             [
              0,
              "#0d0887"
             ],
             [
              0.1111111111111111,
              "#46039f"
             ],
             [
              0.2222222222222222,
              "#7201a8"
             ],
             [
              0.3333333333333333,
              "#9c179e"
             ],
             [
              0.4444444444444444,
              "#bd3786"
             ],
             [
              0.5555555555555556,
              "#d8576b"
             ],
             [
              0.6666666666666666,
              "#ed7953"
             ],
             [
              0.7777777777777778,
              "#fb9f3a"
             ],
             [
              0.8888888888888888,
              "#fdca26"
             ],
             [
              1,
              "#f0f921"
             ]
            ],
            "type": "heatmapgl"
           }
          ],
          "histogram": [
           {
            "marker": {
             "colorbar": {
              "outlinewidth": 0,
              "ticks": ""
             }
            },
            "type": "histogram"
           }
          ],
          "histogram2d": [
           {
            "colorbar": {
             "outlinewidth": 0,
             "ticks": ""
            },
            "colorscale": [
             [
              0,
              "#0d0887"
             ],
             [
              0.1111111111111111,
              "#46039f"
             ],
             [
              0.2222222222222222,
              "#7201a8"
             ],
             [
              0.3333333333333333,
              "#9c179e"
             ],
             [
              0.4444444444444444,
              "#bd3786"
             ],
             [
              0.5555555555555556,
              "#d8576b"
             ],
             [
              0.6666666666666666,
              "#ed7953"
             ],
             [
              0.7777777777777778,
              "#fb9f3a"
             ],
             [
              0.8888888888888888,
              "#fdca26"
             ],
             [
              1,
              "#f0f921"
             ]
            ],
            "type": "histogram2d"
           }
          ],
          "histogram2dcontour": [
           {
            "colorbar": {
             "outlinewidth": 0,
             "ticks": ""
            },
            "colorscale": [
             [
              0,
              "#0d0887"
             ],
             [
              0.1111111111111111,
              "#46039f"
             ],
             [
              0.2222222222222222,
              "#7201a8"
             ],
             [
              0.3333333333333333,
              "#9c179e"
             ],
             [
              0.4444444444444444,
              "#bd3786"
             ],
             [
              0.5555555555555556,
              "#d8576b"
             ],
             [
              0.6666666666666666,
              "#ed7953"
             ],
             [
              0.7777777777777778,
              "#fb9f3a"
             ],
             [
              0.8888888888888888,
              "#fdca26"
             ],
             [
              1,
              "#f0f921"
             ]
            ],
            "type": "histogram2dcontour"
           }
          ],
          "mesh3d": [
           {
            "colorbar": {
             "outlinewidth": 0,
             "ticks": ""
            },
            "type": "mesh3d"
           }
          ],
          "parcoords": [
           {
            "line": {
             "colorbar": {
              "outlinewidth": 0,
              "ticks": ""
             }
            },
            "type": "parcoords"
           }
          ],
          "pie": [
           {
            "automargin": true,
            "type": "pie"
           }
          ],
          "scatter": [
           {
            "marker": {
             "colorbar": {
              "outlinewidth": 0,
              "ticks": ""
             }
            },
            "type": "scatter"
           }
          ],
          "scatter3d": [
           {
            "line": {
             "colorbar": {
              "outlinewidth": 0,
              "ticks": ""
             }
            },
            "marker": {
             "colorbar": {
              "outlinewidth": 0,
              "ticks": ""
             }
            },
            "type": "scatter3d"
           }
          ],
          "scattercarpet": [
           {
            "marker": {
             "colorbar": {
              "outlinewidth": 0,
              "ticks": ""
             }
            },
            "type": "scattercarpet"
           }
          ],
          "scattergeo": [
           {
            "marker": {
             "colorbar": {
              "outlinewidth": 0,
              "ticks": ""
             }
            },
            "type": "scattergeo"
           }
          ],
          "scattergl": [
           {
            "marker": {
             "colorbar": {
              "outlinewidth": 0,
              "ticks": ""
             }
            },
            "type": "scattergl"
           }
          ],
          "scattermapbox": [
           {
            "marker": {
             "colorbar": {
              "outlinewidth": 0,
              "ticks": ""
             }
            },
            "type": "scattermapbox"
           }
          ],
          "scatterpolar": [
           {
            "marker": {
             "colorbar": {
              "outlinewidth": 0,
              "ticks": ""
             }
            },
            "type": "scatterpolar"
           }
          ],
          "scatterpolargl": [
           {
            "marker": {
             "colorbar": {
              "outlinewidth": 0,
              "ticks": ""
             }
            },
            "type": "scatterpolargl"
           }
          ],
          "scatterternary": [
           {
            "marker": {
             "colorbar": {
              "outlinewidth": 0,
              "ticks": ""
             }
            },
            "type": "scatterternary"
           }
          ],
          "surface": [
           {
            "colorbar": {
             "outlinewidth": 0,
             "ticks": ""
            },
            "colorscale": [
             [
              0,
              "#0d0887"
             ],
             [
              0.1111111111111111,
              "#46039f"
             ],
             [
              0.2222222222222222,
              "#7201a8"
             ],
             [
              0.3333333333333333,
              "#9c179e"
             ],
             [
              0.4444444444444444,
              "#bd3786"
             ],
             [
              0.5555555555555556,
              "#d8576b"
             ],
             [
              0.6666666666666666,
              "#ed7953"
             ],
             [
              0.7777777777777778,
              "#fb9f3a"
             ],
             [
              0.8888888888888888,
              "#fdca26"
             ],
             [
              1,
              "#f0f921"
             ]
            ],
            "type": "surface"
           }
          ],
          "table": [
           {
            "cells": {
             "fill": {
              "color": "#EBF0F8"
             },
             "line": {
              "color": "white"
             }
            },
            "header": {
             "fill": {
              "color": "#C8D4E3"
             },
             "line": {
              "color": "white"
             }
            },
            "type": "table"
           }
          ]
         },
         "layout": {
          "annotationdefaults": {
           "arrowcolor": "#2a3f5f",
           "arrowhead": 0,
           "arrowwidth": 1
          },
          "coloraxis": {
           "colorbar": {
            "outlinewidth": 0,
            "ticks": ""
           }
          },
          "colorscale": {
           "diverging": [
            [
             0,
             "#8e0152"
            ],
            [
             0.1,
             "#c51b7d"
            ],
            [
             0.2,
             "#de77ae"
            ],
            [
             0.3,
             "#f1b6da"
            ],
            [
             0.4,
             "#fde0ef"
            ],
            [
             0.5,
             "#f7f7f7"
            ],
            [
             0.6,
             "#e6f5d0"
            ],
            [
             0.7,
             "#b8e186"
            ],
            [
             0.8,
             "#7fbc41"
            ],
            [
             0.9,
             "#4d9221"
            ],
            [
             1,
             "#276419"
            ]
           ],
           "sequential": [
            [
             0,
             "#0d0887"
            ],
            [
             0.1111111111111111,
             "#46039f"
            ],
            [
             0.2222222222222222,
             "#7201a8"
            ],
            [
             0.3333333333333333,
             "#9c179e"
            ],
            [
             0.4444444444444444,
             "#bd3786"
            ],
            [
             0.5555555555555556,
             "#d8576b"
            ],
            [
             0.6666666666666666,
             "#ed7953"
            ],
            [
             0.7777777777777778,
             "#fb9f3a"
            ],
            [
             0.8888888888888888,
             "#fdca26"
            ],
            [
             1,
             "#f0f921"
            ]
           ],
           "sequentialminus": [
            [
             0,
             "#0d0887"
            ],
            [
             0.1111111111111111,
             "#46039f"
            ],
            [
             0.2222222222222222,
             "#7201a8"
            ],
            [
             0.3333333333333333,
             "#9c179e"
            ],
            [
             0.4444444444444444,
             "#bd3786"
            ],
            [
             0.5555555555555556,
             "#d8576b"
            ],
            [
             0.6666666666666666,
             "#ed7953"
            ],
            [
             0.7777777777777778,
             "#fb9f3a"
            ],
            [
             0.8888888888888888,
             "#fdca26"
            ],
            [
             1,
             "#f0f921"
            ]
           ]
          },
          "colorway": [
           "#636efa",
           "#EF553B",
           "#00cc96",
           "#ab63fa",
           "#FFA15A",
           "#19d3f3",
           "#FF6692",
           "#B6E880",
           "#FF97FF",
           "#FECB52"
          ],
          "font": {
           "color": "#2a3f5f"
          },
          "geo": {
           "bgcolor": "white",
           "lakecolor": "white",
           "landcolor": "#E5ECF6",
           "showlakes": true,
           "showland": true,
           "subunitcolor": "white"
          },
          "hoverlabel": {
           "align": "left"
          },
          "hovermode": "closest",
          "mapbox": {
           "style": "light"
          },
          "paper_bgcolor": "white",
          "plot_bgcolor": "#E5ECF6",
          "polar": {
           "angularaxis": {
            "gridcolor": "white",
            "linecolor": "white",
            "ticks": ""
           },
           "bgcolor": "#E5ECF6",
           "radialaxis": {
            "gridcolor": "white",
            "linecolor": "white",
            "ticks": ""
           }
          },
          "scene": {
           "xaxis": {
            "backgroundcolor": "#E5ECF6",
            "gridcolor": "white",
            "gridwidth": 2,
            "linecolor": "white",
            "showbackground": true,
            "ticks": "",
            "zerolinecolor": "white"
           },
           "yaxis": {
            "backgroundcolor": "#E5ECF6",
            "gridcolor": "white",
            "gridwidth": 2,
            "linecolor": "white",
            "showbackground": true,
            "ticks": "",
            "zerolinecolor": "white"
           },
           "zaxis": {
            "backgroundcolor": "#E5ECF6",
            "gridcolor": "white",
            "gridwidth": 2,
            "linecolor": "white",
            "showbackground": true,
            "ticks": "",
            "zerolinecolor": "white"
           }
          },
          "shapedefaults": {
           "line": {
            "color": "#2a3f5f"
           }
          },
          "ternary": {
           "aaxis": {
            "gridcolor": "white",
            "linecolor": "white",
            "ticks": ""
           },
           "baxis": {
            "gridcolor": "white",
            "linecolor": "white",
            "ticks": ""
           },
           "bgcolor": "#E5ECF6",
           "caxis": {
            "gridcolor": "white",
            "linecolor": "white",
            "ticks": ""
           }
          },
          "title": {
           "x": 0.05
          },
          "xaxis": {
           "automargin": true,
           "gridcolor": "white",
           "linecolor": "white",
           "ticks": "",
           "title": {
            "standoff": 15
           },
           "zerolinecolor": "white",
           "zerolinewidth": 2
          },
          "yaxis": {
           "automargin": true,
           "gridcolor": "white",
           "linecolor": "white",
           "ticks": "",
           "title": {
            "standoff": 15
           },
           "zerolinecolor": "white",
           "zerolinewidth": 2
          }
         }
        },
        "title": {
         "text": "Standard Error of the Mean for different Sample Sizes"
        },
        "xaxis": {
         "title": {
          "text": "Sample Size"
         }
        },
        "yaxis": {
         "title": {
          "text": "Standard Error of the Mean"
         }
        }
       }
      },
      "text/html": [
       "<div>\n",
       "        \n",
       "        \n",
       "            <div id=\"5d988e66-5b3e-403e-83e5-9f494540d0bf\" class=\"plotly-graph-div\" style=\"height:525px; width:100%;\"></div>\n",
       "            <script type=\"text/javascript\">\n",
       "                require([\"plotly\"], function(Plotly) {\n",
       "                    window.PLOTLYENV=window.PLOTLYENV || {};\n",
       "                    \n",
       "                if (document.getElementById(\"5d988e66-5b3e-403e-83e5-9f494540d0bf\")) {\n",
       "                    Plotly.newPlot(\n",
       "                        '5d988e66-5b3e-403e-83e5-9f494540d0bf',\n",
       "                        [{\"type\": \"scatter\", \"x\": [3, 4, 5, 6, 7, 8, 9, 10, 11, 12, 13, 14, 15, 16, 17, 18, 19, 20, 21, 22, 23, 24, 25, 26, 27, 28, 29], \"y\": [0.004557169320159101, 0.004295226189606551, 0.003330547868983573, 0.00378485045391337, 0.0032490839260102037, 0.0029971055947884454, 0.002886047086818503, 0.0025815538230155965, 0.0023352482965123033, 0.0022081715444048676, 0.002475884040123051, 0.0024304758085615017, 0.002337681715597409, 0.0021869999637819716, 0.002105383752793215, 0.001985943576016252, 0.0018801150133018218, 0.0018000824271643676, 0.0017164281218357616, 0.001959133782017528, 0.0018764435958507082, 0.0018298861803970647, 0.0017950332008015222, 0.0017370612125039446, 0.0016761403670524928, 0.0016666747101883662, 0.001626086396091389]}],\n",
       "                        {\"template\": {\"data\": {\"bar\": [{\"error_x\": {\"color\": \"#2a3f5f\"}, \"error_y\": {\"color\": \"#2a3f5f\"}, \"marker\": {\"line\": {\"color\": \"#E5ECF6\", \"width\": 0.5}}, \"type\": \"bar\"}], \"barpolar\": [{\"marker\": {\"line\": {\"color\": \"#E5ECF6\", \"width\": 0.5}}, \"type\": \"barpolar\"}], \"carpet\": [{\"aaxis\": {\"endlinecolor\": \"#2a3f5f\", \"gridcolor\": \"white\", \"linecolor\": \"white\", \"minorgridcolor\": \"white\", \"startlinecolor\": \"#2a3f5f\"}, \"baxis\": {\"endlinecolor\": \"#2a3f5f\", \"gridcolor\": \"white\", \"linecolor\": \"white\", \"minorgridcolor\": \"white\", \"startlinecolor\": \"#2a3f5f\"}, \"type\": \"carpet\"}], \"choropleth\": [{\"colorbar\": {\"outlinewidth\": 0, \"ticks\": \"\"}, \"type\": \"choropleth\"}], \"contour\": [{\"colorbar\": {\"outlinewidth\": 0, \"ticks\": \"\"}, \"colorscale\": [[0.0, \"#0d0887\"], [0.1111111111111111, \"#46039f\"], [0.2222222222222222, \"#7201a8\"], [0.3333333333333333, \"#9c179e\"], [0.4444444444444444, \"#bd3786\"], [0.5555555555555556, \"#d8576b\"], [0.6666666666666666, \"#ed7953\"], [0.7777777777777778, \"#fb9f3a\"], [0.8888888888888888, \"#fdca26\"], [1.0, \"#f0f921\"]], \"type\": \"contour\"}], \"contourcarpet\": [{\"colorbar\": {\"outlinewidth\": 0, \"ticks\": \"\"}, \"type\": \"contourcarpet\"}], \"heatmap\": [{\"colorbar\": {\"outlinewidth\": 0, \"ticks\": \"\"}, \"colorscale\": [[0.0, \"#0d0887\"], [0.1111111111111111, \"#46039f\"], [0.2222222222222222, \"#7201a8\"], [0.3333333333333333, \"#9c179e\"], [0.4444444444444444, \"#bd3786\"], [0.5555555555555556, \"#d8576b\"], [0.6666666666666666, \"#ed7953\"], [0.7777777777777778, \"#fb9f3a\"], [0.8888888888888888, \"#fdca26\"], [1.0, \"#f0f921\"]], \"type\": \"heatmap\"}], \"heatmapgl\": [{\"colorbar\": {\"outlinewidth\": 0, \"ticks\": \"\"}, \"colorscale\": [[0.0, \"#0d0887\"], [0.1111111111111111, \"#46039f\"], [0.2222222222222222, \"#7201a8\"], [0.3333333333333333, \"#9c179e\"], [0.4444444444444444, \"#bd3786\"], [0.5555555555555556, \"#d8576b\"], [0.6666666666666666, \"#ed7953\"], [0.7777777777777778, \"#fb9f3a\"], [0.8888888888888888, \"#fdca26\"], [1.0, \"#f0f921\"]], \"type\": \"heatmapgl\"}], \"histogram\": [{\"marker\": {\"colorbar\": {\"outlinewidth\": 0, \"ticks\": \"\"}}, \"type\": \"histogram\"}], \"histogram2d\": [{\"colorbar\": {\"outlinewidth\": 0, \"ticks\": \"\"}, \"colorscale\": [[0.0, \"#0d0887\"], [0.1111111111111111, \"#46039f\"], [0.2222222222222222, \"#7201a8\"], [0.3333333333333333, \"#9c179e\"], [0.4444444444444444, \"#bd3786\"], [0.5555555555555556, \"#d8576b\"], [0.6666666666666666, \"#ed7953\"], [0.7777777777777778, \"#fb9f3a\"], [0.8888888888888888, \"#fdca26\"], [1.0, \"#f0f921\"]], \"type\": \"histogram2d\"}], \"histogram2dcontour\": [{\"colorbar\": {\"outlinewidth\": 0, \"ticks\": \"\"}, \"colorscale\": [[0.0, \"#0d0887\"], [0.1111111111111111, \"#46039f\"], [0.2222222222222222, \"#7201a8\"], [0.3333333333333333, \"#9c179e\"], [0.4444444444444444, \"#bd3786\"], [0.5555555555555556, \"#d8576b\"], [0.6666666666666666, \"#ed7953\"], [0.7777777777777778, \"#fb9f3a\"], [0.8888888888888888, \"#fdca26\"], [1.0, \"#f0f921\"]], \"type\": \"histogram2dcontour\"}], \"mesh3d\": [{\"colorbar\": {\"outlinewidth\": 0, \"ticks\": \"\"}, \"type\": \"mesh3d\"}], \"parcoords\": [{\"line\": {\"colorbar\": {\"outlinewidth\": 0, \"ticks\": \"\"}}, \"type\": \"parcoords\"}], \"pie\": [{\"automargin\": true, \"type\": \"pie\"}], \"scatter\": [{\"marker\": {\"colorbar\": {\"outlinewidth\": 0, \"ticks\": \"\"}}, \"type\": \"scatter\"}], \"scatter3d\": [{\"line\": {\"colorbar\": {\"outlinewidth\": 0, \"ticks\": \"\"}}, \"marker\": {\"colorbar\": {\"outlinewidth\": 0, \"ticks\": \"\"}}, \"type\": \"scatter3d\"}], \"scattercarpet\": [{\"marker\": {\"colorbar\": {\"outlinewidth\": 0, \"ticks\": \"\"}}, \"type\": \"scattercarpet\"}], \"scattergeo\": [{\"marker\": {\"colorbar\": {\"outlinewidth\": 0, \"ticks\": \"\"}}, \"type\": \"scattergeo\"}], \"scattergl\": [{\"marker\": {\"colorbar\": {\"outlinewidth\": 0, \"ticks\": \"\"}}, \"type\": \"scattergl\"}], \"scattermapbox\": [{\"marker\": {\"colorbar\": {\"outlinewidth\": 0, \"ticks\": \"\"}}, \"type\": \"scattermapbox\"}], \"scatterpolar\": [{\"marker\": {\"colorbar\": {\"outlinewidth\": 0, \"ticks\": \"\"}}, \"type\": \"scatterpolar\"}], \"scatterpolargl\": [{\"marker\": {\"colorbar\": {\"outlinewidth\": 0, \"ticks\": \"\"}}, \"type\": \"scatterpolargl\"}], \"scatterternary\": [{\"marker\": {\"colorbar\": {\"outlinewidth\": 0, \"ticks\": \"\"}}, \"type\": \"scatterternary\"}], \"surface\": [{\"colorbar\": {\"outlinewidth\": 0, \"ticks\": \"\"}, \"colorscale\": [[0.0, \"#0d0887\"], [0.1111111111111111, \"#46039f\"], [0.2222222222222222, \"#7201a8\"], [0.3333333333333333, \"#9c179e\"], [0.4444444444444444, \"#bd3786\"], [0.5555555555555556, \"#d8576b\"], [0.6666666666666666, \"#ed7953\"], [0.7777777777777778, \"#fb9f3a\"], [0.8888888888888888, \"#fdca26\"], [1.0, \"#f0f921\"]], \"type\": \"surface\"}], \"table\": [{\"cells\": {\"fill\": {\"color\": \"#EBF0F8\"}, \"line\": {\"color\": \"white\"}}, \"header\": {\"fill\": {\"color\": \"#C8D4E3\"}, \"line\": {\"color\": \"white\"}}, \"type\": \"table\"}]}, \"layout\": {\"annotationdefaults\": {\"arrowcolor\": \"#2a3f5f\", \"arrowhead\": 0, \"arrowwidth\": 1}, \"coloraxis\": {\"colorbar\": {\"outlinewidth\": 0, \"ticks\": \"\"}}, \"colorscale\": {\"diverging\": [[0, \"#8e0152\"], [0.1, \"#c51b7d\"], [0.2, \"#de77ae\"], [0.3, \"#f1b6da\"], [0.4, \"#fde0ef\"], [0.5, \"#f7f7f7\"], [0.6, \"#e6f5d0\"], [0.7, \"#b8e186\"], [0.8, \"#7fbc41\"], [0.9, \"#4d9221\"], [1, \"#276419\"]], \"sequential\": [[0.0, \"#0d0887\"], [0.1111111111111111, \"#46039f\"], [0.2222222222222222, \"#7201a8\"], [0.3333333333333333, \"#9c179e\"], [0.4444444444444444, \"#bd3786\"], [0.5555555555555556, \"#d8576b\"], [0.6666666666666666, \"#ed7953\"], [0.7777777777777778, \"#fb9f3a\"], [0.8888888888888888, \"#fdca26\"], [1.0, \"#f0f921\"]], \"sequentialminus\": [[0.0, \"#0d0887\"], [0.1111111111111111, \"#46039f\"], [0.2222222222222222, \"#7201a8\"], [0.3333333333333333, \"#9c179e\"], [0.4444444444444444, \"#bd3786\"], [0.5555555555555556, \"#d8576b\"], [0.6666666666666666, \"#ed7953\"], [0.7777777777777778, \"#fb9f3a\"], [0.8888888888888888, \"#fdca26\"], [1.0, \"#f0f921\"]]}, \"colorway\": [\"#636efa\", \"#EF553B\", \"#00cc96\", \"#ab63fa\", \"#FFA15A\", \"#19d3f3\", \"#FF6692\", \"#B6E880\", \"#FF97FF\", \"#FECB52\"], \"font\": {\"color\": \"#2a3f5f\"}, \"geo\": {\"bgcolor\": \"white\", \"lakecolor\": \"white\", \"landcolor\": \"#E5ECF6\", \"showlakes\": true, \"showland\": true, \"subunitcolor\": \"white\"}, \"hoverlabel\": {\"align\": \"left\"}, \"hovermode\": \"closest\", \"mapbox\": {\"style\": \"light\"}, \"paper_bgcolor\": \"white\", \"plot_bgcolor\": \"#E5ECF6\", \"polar\": {\"angularaxis\": {\"gridcolor\": \"white\", \"linecolor\": \"white\", \"ticks\": \"\"}, \"bgcolor\": \"#E5ECF6\", \"radialaxis\": {\"gridcolor\": \"white\", \"linecolor\": \"white\", \"ticks\": \"\"}}, \"scene\": {\"xaxis\": {\"backgroundcolor\": \"#E5ECF6\", \"gridcolor\": \"white\", \"gridwidth\": 2, \"linecolor\": \"white\", \"showbackground\": true, \"ticks\": \"\", \"zerolinecolor\": \"white\"}, \"yaxis\": {\"backgroundcolor\": \"#E5ECF6\", \"gridcolor\": \"white\", \"gridwidth\": 2, \"linecolor\": \"white\", \"showbackground\": true, \"ticks\": \"\", \"zerolinecolor\": \"white\"}, \"zaxis\": {\"backgroundcolor\": \"#E5ECF6\", \"gridcolor\": \"white\", \"gridwidth\": 2, \"linecolor\": \"white\", \"showbackground\": true, \"ticks\": \"\", \"zerolinecolor\": \"white\"}}, \"shapedefaults\": {\"line\": {\"color\": \"#2a3f5f\"}}, \"ternary\": {\"aaxis\": {\"gridcolor\": \"white\", \"linecolor\": \"white\", \"ticks\": \"\"}, \"baxis\": {\"gridcolor\": \"white\", \"linecolor\": \"white\", \"ticks\": \"\"}, \"bgcolor\": \"#E5ECF6\", \"caxis\": {\"gridcolor\": \"white\", \"linecolor\": \"white\", \"ticks\": \"\"}}, \"title\": {\"x\": 0.05}, \"xaxis\": {\"automargin\": true, \"gridcolor\": \"white\", \"linecolor\": \"white\", \"ticks\": \"\", \"title\": {\"standoff\": 15}, \"zerolinecolor\": \"white\", \"zerolinewidth\": 2}, \"yaxis\": {\"automargin\": true, \"gridcolor\": \"white\", \"linecolor\": \"white\", \"ticks\": \"\", \"title\": {\"standoff\": 15}, \"zerolinecolor\": \"white\", \"zerolinewidth\": 2}}}, \"title\": {\"text\": \"Standard Error of the Mean for different Sample Sizes\"}, \"xaxis\": {\"title\": {\"text\": \"Sample Size\"}}, \"yaxis\": {\"title\": {\"text\": \"Standard Error of the Mean\"}}},\n",
       "                        {\"responsive\": true}\n",
       "                    ).then(function(){\n",
       "                            \n",
       "var gd = document.getElementById('5d988e66-5b3e-403e-83e5-9f494540d0bf');\n",
       "var x = new MutationObserver(function (mutations, observer) {{\n",
       "        var display = window.getComputedStyle(gd).display;\n",
       "        if (!display || display === 'none') {{\n",
       "            console.log([gd, 'removed!']);\n",
       "            Plotly.purge(gd);\n",
       "            observer.disconnect();\n",
       "        }}\n",
       "}});\n",
       "\n",
       "// Listen for the removal of the full notebook cells\n",
       "var notebookContainer = gd.closest('#notebook-container');\n",
       "if (notebookContainer) {{\n",
       "    x.observe(notebookContainer, {childList: true});\n",
       "}}\n",
       "\n",
       "// Listen for the clearing of the current output cell\n",
       "var outputEl = gd.closest('.output');\n",
       "if (outputEl) {{\n",
       "    x.observe(outputEl, {childList: true});\n",
       "}}\n",
       "\n",
       "                        })\n",
       "                };\n",
       "                });\n",
       "            </script>\n",
       "        </div>"
      ]
     },
     "metadata": {},
     "output_type": "display_data"
    }
   ],
   "source": [
    "from scipy import stats\n",
    "SEM = []\n",
    "for sample_size in range(3,len(hyp_NSGAII)):\n",
    "    SEM.append(stats.sem(hyp_NSGAII[0:sample_size]))\n",
    "    \n",
    "fig = go.Figure(\n",
    "    data=go.Scatter(x=list(range(3,len(hyp_NSGAII))), \n",
    "                    y=SEM),\n",
    "    layout=dict(xaxis=dict(title='Sample Size'),\n",
    "                yaxis=dict(title='Standard Error of the Mean'),\n",
    "                title='Standard Error of the Mean for different Sample Sizes'))\n",
    "fig.show()\n",
    "# Result: The SEM is very low (<0.05) and thus the sample size of 30 should be sufficient."
   ]
  }
 ],
 "metadata": {
  "kernelspec": {
   "display_name": "Python 3",
   "language": "python",
   "name": "python3"
  },
  "language_info": {
   "codemirror_mode": {
    "name": "ipython",
    "version": 3
   },
   "file_extension": ".py",
   "mimetype": "text/x-python",
   "name": "python",
   "nbconvert_exporter": "python",
   "pygments_lexer": "ipython3",
   "version": "3.7.7"
  },
  "toc": {
   "base_numbering": 1,
   "nav_menu": {},
   "number_sections": true,
   "sideBar": true,
   "skip_h1_title": false,
   "title_cell": "Table of Contents",
   "title_sidebar": "Contents",
   "toc_cell": true,
   "toc_position": {},
   "toc_section_display": true,
   "toc_window_display": true
  },
  "varInspector": {
   "cols": {
    "lenName": 16,
    "lenType": 16,
    "lenVar": 40
   },
   "kernels_config": {
    "python": {
     "delete_cmd_postfix": "",
     "delete_cmd_prefix": "del ",
     "library": "var_list.py",
     "varRefreshCmd": "print(var_dic_list())"
    },
    "r": {
     "delete_cmd_postfix": ") ",
     "delete_cmd_prefix": "rm(",
     "library": "var_list.r",
     "varRefreshCmd": "cat(var_dic_list()) "
    }
   },
   "position": {
    "height": "265.85px",
    "left": "910px",
    "right": "20px",
    "top": "119px",
    "width": "350px"
   },
   "types_to_exclude": [
    "module",
    "function",
    "builtin_function_or_method",
    "instance",
    "_Feature"
   ],
   "window_display": false
  }
 },
 "nbformat": 4,
 "nbformat_minor": 4
}
